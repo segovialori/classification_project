{
 "cells": [
  {
   "cell_type": "markdown",
   "metadata": {},
   "source": [
    "# Telco Churn "
   ]
  },
  {
   "cell_type": "markdown",
   "metadata": {},
   "source": [
    "#### Lori Segovia\n",
    "#### Tuesday March 9, 2021\n"
   ]
  },
  {
   "cell_type": "markdown",
   "metadata": {},
   "source": [
    "# **Plan**\n"
   ]
  },
  {
   "cell_type": "markdown",
   "metadata": {},
   "source": [
    "- acquire the data with sql\n",
    "- clean/prep the data\n",
    "- explore features of data\n",
    "- model data\n",
    "- evaluate data"
   ]
  },
  {
   "cell_type": "markdown",
   "metadata": {},
   "source": [
    "# **Acquire**"
   ]
  },
  {
   "cell_type": "markdown",
   "metadata": {},
   "source": [
    "### These are the imports needed for this notebook:"
   ]
  },
  {
   "cell_type": "code",
   "execution_count": 46,
   "metadata": {},
   "outputs": [],
   "source": [
    "# python files that contain the functions to aquire and prep the data\n",
    "import acquire\n",
    "import prepare\n",
    "import explore\n",
    "import eval\n",
    "\n",
    "# import python libraries\n",
    "import pandas as pd\n",
    "import numpy as np\n",
    "import matplotlib.pyplot as plt\n",
    "import seaborn as sns\n",
    "from scipy import stats\n",
    "\n",
    "#imports for model object and metric functions\n",
    "from sklearn.model_selection import train_test_split\n",
    "from sklearn.linear_model import LogisticRegression\n",
    "from sklearn.tree import DecisionTreeClassifier\n",
    "from sklearn.ensemble import RandomForestClassifier\n",
    "from sklearn.neighbors import KNeighborsClassifier\n",
    "from sklearn.metrics import classification_report\n",
    "from sklearn.metrics import confusion_matrix\n",
    "\n",
    "# ignore warnings\n",
    "import warnings\n",
    "warnings.filterwarnings(\"ignore\")\n",
    "\n",
    "#visulization settings\n",
    "import graphviz\n",
    "from sklearn.tree import export_graphviz\n",
    "import matplotlib.style as style \n",
    "style.available\n",
    "style.use('seaborn-talk') #sets the size of the charts\n",
    "style.use('seaborn-colorblind') #sets color of charts"
   ]
  },
  {
   "cell_type": "code",
   "execution_count": 2,
   "metadata": {},
   "outputs": [],
   "source": [
    "df = acquire.get_telco_data()\n"
   ]
  },
  {
   "cell_type": "code",
   "execution_count": 3,
   "metadata": {},
   "outputs": [
    {
     "data": {
      "text/plain": [
       "(7043, 24)"
      ]
     },
     "execution_count": 3,
     "metadata": {},
     "output_type": "execute_result"
    }
   ],
   "source": [
    "df.shape"
   ]
  },
  {
   "cell_type": "code",
   "execution_count": 4,
   "metadata": {},
   "outputs": [
    {
     "data": {
      "text/html": [
       "<div>\n",
       "<style scoped>\n",
       "    .dataframe tbody tr th:only-of-type {\n",
       "        vertical-align: middle;\n",
       "    }\n",
       "\n",
       "    .dataframe tbody tr th {\n",
       "        vertical-align: top;\n",
       "    }\n",
       "\n",
       "    .dataframe thead th {\n",
       "        text-align: right;\n",
       "    }\n",
       "</style>\n",
       "<table border=\"1\" class=\"dataframe\">\n",
       "  <thead>\n",
       "    <tr style=\"text-align: right;\">\n",
       "      <th></th>\n",
       "      <th>0</th>\n",
       "      <th>1</th>\n",
       "      <th>2</th>\n",
       "      <th>3</th>\n",
       "      <th>4</th>\n",
       "    </tr>\n",
       "  </thead>\n",
       "  <tbody>\n",
       "    <tr>\n",
       "      <th>contract_type_id</th>\n",
       "      <td>1</td>\n",
       "      <td>1</td>\n",
       "      <td>1</td>\n",
       "      <td>1</td>\n",
       "      <td>1</td>\n",
       "    </tr>\n",
       "    <tr>\n",
       "      <th>internet_service_type_id</th>\n",
       "      <td>1</td>\n",
       "      <td>1</td>\n",
       "      <td>1</td>\n",
       "      <td>1</td>\n",
       "      <td>1</td>\n",
       "    </tr>\n",
       "    <tr>\n",
       "      <th>payment_type_id</th>\n",
       "      <td>2</td>\n",
       "      <td>4</td>\n",
       "      <td>1</td>\n",
       "      <td>1</td>\n",
       "      <td>3</td>\n",
       "    </tr>\n",
       "    <tr>\n",
       "      <th>customer_id</th>\n",
       "      <td>0003-MKNFE</td>\n",
       "      <td>0013-MHZWF</td>\n",
       "      <td>0015-UOCOJ</td>\n",
       "      <td>0023-HGHWL</td>\n",
       "      <td>0032-PGELS</td>\n",
       "    </tr>\n",
       "    <tr>\n",
       "      <th>gender</th>\n",
       "      <td>Male</td>\n",
       "      <td>Female</td>\n",
       "      <td>Female</td>\n",
       "      <td>Male</td>\n",
       "      <td>Female</td>\n",
       "    </tr>\n",
       "    <tr>\n",
       "      <th>senior_citizen</th>\n",
       "      <td>0</td>\n",
       "      <td>0</td>\n",
       "      <td>1</td>\n",
       "      <td>1</td>\n",
       "      <td>0</td>\n",
       "    </tr>\n",
       "    <tr>\n",
       "      <th>partner</th>\n",
       "      <td>No</td>\n",
       "      <td>No</td>\n",
       "      <td>No</td>\n",
       "      <td>No</td>\n",
       "      <td>Yes</td>\n",
       "    </tr>\n",
       "    <tr>\n",
       "      <th>dependents</th>\n",
       "      <td>No</td>\n",
       "      <td>Yes</td>\n",
       "      <td>No</td>\n",
       "      <td>No</td>\n",
       "      <td>Yes</td>\n",
       "    </tr>\n",
       "    <tr>\n",
       "      <th>tenure</th>\n",
       "      <td>9</td>\n",
       "      <td>9</td>\n",
       "      <td>7</td>\n",
       "      <td>1</td>\n",
       "      <td>1</td>\n",
       "    </tr>\n",
       "    <tr>\n",
       "      <th>phone_service</th>\n",
       "      <td>Yes</td>\n",
       "      <td>Yes</td>\n",
       "      <td>Yes</td>\n",
       "      <td>No</td>\n",
       "      <td>No</td>\n",
       "    </tr>\n",
       "    <tr>\n",
       "      <th>multiple_lines</th>\n",
       "      <td>Yes</td>\n",
       "      <td>No</td>\n",
       "      <td>No</td>\n",
       "      <td>No phone service</td>\n",
       "      <td>No phone service</td>\n",
       "    </tr>\n",
       "    <tr>\n",
       "      <th>online_security</th>\n",
       "      <td>No</td>\n",
       "      <td>No</td>\n",
       "      <td>Yes</td>\n",
       "      <td>No</td>\n",
       "      <td>Yes</td>\n",
       "    </tr>\n",
       "    <tr>\n",
       "      <th>online_backup</th>\n",
       "      <td>No</td>\n",
       "      <td>No</td>\n",
       "      <td>No</td>\n",
       "      <td>No</td>\n",
       "      <td>No</td>\n",
       "    </tr>\n",
       "    <tr>\n",
       "      <th>device_protection</th>\n",
       "      <td>No</td>\n",
       "      <td>No</td>\n",
       "      <td>No</td>\n",
       "      <td>No</td>\n",
       "      <td>No</td>\n",
       "    </tr>\n",
       "    <tr>\n",
       "      <th>tech_support</th>\n",
       "      <td>No</td>\n",
       "      <td>Yes</td>\n",
       "      <td>No</td>\n",
       "      <td>No</td>\n",
       "      <td>No</td>\n",
       "    </tr>\n",
       "    <tr>\n",
       "      <th>streaming_tv</th>\n",
       "      <td>No</td>\n",
       "      <td>Yes</td>\n",
       "      <td>No</td>\n",
       "      <td>No</td>\n",
       "      <td>No</td>\n",
       "    </tr>\n",
       "    <tr>\n",
       "      <th>streaming_movies</th>\n",
       "      <td>Yes</td>\n",
       "      <td>Yes</td>\n",
       "      <td>No</td>\n",
       "      <td>No</td>\n",
       "      <td>No</td>\n",
       "    </tr>\n",
       "    <tr>\n",
       "      <th>paperless_billing</th>\n",
       "      <td>No</td>\n",
       "      <td>Yes</td>\n",
       "      <td>Yes</td>\n",
       "      <td>Yes</td>\n",
       "      <td>No</td>\n",
       "    </tr>\n",
       "    <tr>\n",
       "      <th>monthly_charges</th>\n",
       "      <td>59.9</td>\n",
       "      <td>69.4</td>\n",
       "      <td>48.2</td>\n",
       "      <td>25.1</td>\n",
       "      <td>30.5</td>\n",
       "    </tr>\n",
       "    <tr>\n",
       "      <th>total_charges</th>\n",
       "      <td>542.4</td>\n",
       "      <td>571.45</td>\n",
       "      <td>340.35</td>\n",
       "      <td>25.1</td>\n",
       "      <td>30.5</td>\n",
       "    </tr>\n",
       "    <tr>\n",
       "      <th>churn</th>\n",
       "      <td>No</td>\n",
       "      <td>No</td>\n",
       "      <td>No</td>\n",
       "      <td>Yes</td>\n",
       "      <td>Yes</td>\n",
       "    </tr>\n",
       "    <tr>\n",
       "      <th>payment_type</th>\n",
       "      <td>Mailed check</td>\n",
       "      <td>Credit card (automatic)</td>\n",
       "      <td>Electronic check</td>\n",
       "      <td>Electronic check</td>\n",
       "      <td>Bank transfer (automatic)</td>\n",
       "    </tr>\n",
       "    <tr>\n",
       "      <th>internet_service_type</th>\n",
       "      <td>DSL</td>\n",
       "      <td>DSL</td>\n",
       "      <td>DSL</td>\n",
       "      <td>DSL</td>\n",
       "      <td>DSL</td>\n",
       "    </tr>\n",
       "    <tr>\n",
       "      <th>contract_type</th>\n",
       "      <td>Month-to-month</td>\n",
       "      <td>Month-to-month</td>\n",
       "      <td>Month-to-month</td>\n",
       "      <td>Month-to-month</td>\n",
       "      <td>Month-to-month</td>\n",
       "    </tr>\n",
       "  </tbody>\n",
       "</table>\n",
       "</div>"
      ],
      "text/plain": [
       "                                       0                        1  \\\n",
       "contract_type_id                       1                        1   \n",
       "internet_service_type_id               1                        1   \n",
       "payment_type_id                        2                        4   \n",
       "customer_id                   0003-MKNFE               0013-MHZWF   \n",
       "gender                              Male                   Female   \n",
       "senior_citizen                         0                        0   \n",
       "partner                               No                       No   \n",
       "dependents                            No                      Yes   \n",
       "tenure                                 9                        9   \n",
       "phone_service                        Yes                      Yes   \n",
       "multiple_lines                       Yes                       No   \n",
       "online_security                       No                       No   \n",
       "online_backup                         No                       No   \n",
       "device_protection                     No                       No   \n",
       "tech_support                          No                      Yes   \n",
       "streaming_tv                          No                      Yes   \n",
       "streaming_movies                     Yes                      Yes   \n",
       "paperless_billing                     No                      Yes   \n",
       "monthly_charges                     59.9                     69.4   \n",
       "total_charges                      542.4                   571.45   \n",
       "churn                                 No                       No   \n",
       "payment_type                Mailed check  Credit card (automatic)   \n",
       "internet_service_type                DSL                      DSL   \n",
       "contract_type             Month-to-month           Month-to-month   \n",
       "\n",
       "                                         2                 3  \\\n",
       "contract_type_id                         1                 1   \n",
       "internet_service_type_id                 1                 1   \n",
       "payment_type_id                          1                 1   \n",
       "customer_id                     0015-UOCOJ        0023-HGHWL   \n",
       "gender                              Female              Male   \n",
       "senior_citizen                           1                 1   \n",
       "partner                                 No                No   \n",
       "dependents                              No                No   \n",
       "tenure                                   7                 1   \n",
       "phone_service                          Yes                No   \n",
       "multiple_lines                          No  No phone service   \n",
       "online_security                        Yes                No   \n",
       "online_backup                           No                No   \n",
       "device_protection                       No                No   \n",
       "tech_support                            No                No   \n",
       "streaming_tv                            No                No   \n",
       "streaming_movies                        No                No   \n",
       "paperless_billing                      Yes               Yes   \n",
       "monthly_charges                       48.2              25.1   \n",
       "total_charges                       340.35              25.1   \n",
       "churn                                   No               Yes   \n",
       "payment_type              Electronic check  Electronic check   \n",
       "internet_service_type                  DSL               DSL   \n",
       "contract_type               Month-to-month    Month-to-month   \n",
       "\n",
       "                                                  4  \n",
       "contract_type_id                                  1  \n",
       "internet_service_type_id                          1  \n",
       "payment_type_id                                   3  \n",
       "customer_id                              0032-PGELS  \n",
       "gender                                       Female  \n",
       "senior_citizen                                    0  \n",
       "partner                                         Yes  \n",
       "dependents                                      Yes  \n",
       "tenure                                            1  \n",
       "phone_service                                    No  \n",
       "multiple_lines                     No phone service  \n",
       "online_security                                 Yes  \n",
       "online_backup                                    No  \n",
       "device_protection                                No  \n",
       "tech_support                                     No  \n",
       "streaming_tv                                     No  \n",
       "streaming_movies                                 No  \n",
       "paperless_billing                                No  \n",
       "monthly_charges                                30.5  \n",
       "total_charges                                  30.5  \n",
       "churn                                           Yes  \n",
       "payment_type              Bank transfer (automatic)  \n",
       "internet_service_type                           DSL  \n",
       "contract_type                        Month-to-month  "
      ]
     },
     "execution_count": 4,
     "metadata": {},
     "output_type": "execute_result"
    }
   ],
   "source": [
    "#Get a quick peek at the data that has been imported.  \n",
    "df.head().T"
   ]
  },
  {
   "cell_type": "code",
   "execution_count": 5,
   "metadata": {},
   "outputs": [
    {
     "data": {
      "text/html": [
       "<div>\n",
       "<style scoped>\n",
       "    .dataframe tbody tr th:only-of-type {\n",
       "        vertical-align: middle;\n",
       "    }\n",
       "\n",
       "    .dataframe tbody tr th {\n",
       "        vertical-align: top;\n",
       "    }\n",
       "\n",
       "    .dataframe thead th {\n",
       "        text-align: right;\n",
       "    }\n",
       "</style>\n",
       "<table border=\"1\" class=\"dataframe\">\n",
       "  <thead>\n",
       "    <tr style=\"text-align: right;\">\n",
       "      <th></th>\n",
       "      <th>count</th>\n",
       "      <th>mean</th>\n",
       "      <th>std</th>\n",
       "      <th>min</th>\n",
       "      <th>25%</th>\n",
       "      <th>50%</th>\n",
       "      <th>75%</th>\n",
       "      <th>max</th>\n",
       "    </tr>\n",
       "  </thead>\n",
       "  <tbody>\n",
       "    <tr>\n",
       "      <th>contract_type_id</th>\n",
       "      <td>7043.0</td>\n",
       "      <td>1.690473</td>\n",
       "      <td>0.833755</td>\n",
       "      <td>1.00</td>\n",
       "      <td>1.0</td>\n",
       "      <td>1.00</td>\n",
       "      <td>2.00</td>\n",
       "      <td>3.00</td>\n",
       "    </tr>\n",
       "    <tr>\n",
       "      <th>internet_service_type_id</th>\n",
       "      <td>7043.0</td>\n",
       "      <td>1.872923</td>\n",
       "      <td>0.737796</td>\n",
       "      <td>1.00</td>\n",
       "      <td>1.0</td>\n",
       "      <td>2.00</td>\n",
       "      <td>2.00</td>\n",
       "      <td>3.00</td>\n",
       "    </tr>\n",
       "    <tr>\n",
       "      <th>payment_type_id</th>\n",
       "      <td>7043.0</td>\n",
       "      <td>2.315633</td>\n",
       "      <td>1.148907</td>\n",
       "      <td>1.00</td>\n",
       "      <td>1.0</td>\n",
       "      <td>2.00</td>\n",
       "      <td>3.00</td>\n",
       "      <td>4.00</td>\n",
       "    </tr>\n",
       "    <tr>\n",
       "      <th>senior_citizen</th>\n",
       "      <td>7043.0</td>\n",
       "      <td>0.162147</td>\n",
       "      <td>0.368612</td>\n",
       "      <td>0.00</td>\n",
       "      <td>0.0</td>\n",
       "      <td>0.00</td>\n",
       "      <td>0.00</td>\n",
       "      <td>1.00</td>\n",
       "    </tr>\n",
       "    <tr>\n",
       "      <th>tenure</th>\n",
       "      <td>7043.0</td>\n",
       "      <td>32.371149</td>\n",
       "      <td>24.559481</td>\n",
       "      <td>0.00</td>\n",
       "      <td>9.0</td>\n",
       "      <td>29.00</td>\n",
       "      <td>55.00</td>\n",
       "      <td>72.00</td>\n",
       "    </tr>\n",
       "    <tr>\n",
       "      <th>monthly_charges</th>\n",
       "      <td>7043.0</td>\n",
       "      <td>64.761692</td>\n",
       "      <td>30.090047</td>\n",
       "      <td>18.25</td>\n",
       "      <td>35.5</td>\n",
       "      <td>70.35</td>\n",
       "      <td>89.85</td>\n",
       "      <td>118.75</td>\n",
       "    </tr>\n",
       "  </tbody>\n",
       "</table>\n",
       "</div>"
      ],
      "text/plain": [
       "                           count       mean        std    min   25%    50%  \\\n",
       "contract_type_id          7043.0   1.690473   0.833755   1.00   1.0   1.00   \n",
       "internet_service_type_id  7043.0   1.872923   0.737796   1.00   1.0   2.00   \n",
       "payment_type_id           7043.0   2.315633   1.148907   1.00   1.0   2.00   \n",
       "senior_citizen            7043.0   0.162147   0.368612   0.00   0.0   0.00   \n",
       "tenure                    7043.0  32.371149  24.559481   0.00   9.0  29.00   \n",
       "monthly_charges           7043.0  64.761692  30.090047  18.25  35.5  70.35   \n",
       "\n",
       "                            75%     max  \n",
       "contract_type_id           2.00    3.00  \n",
       "internet_service_type_id   2.00    3.00  \n",
       "payment_type_id            3.00    4.00  \n",
       "senior_citizen             0.00    1.00  \n",
       "tenure                    55.00   72.00  \n",
       "monthly_charges           89.85  118.75  "
      ]
     },
     "execution_count": 5,
     "metadata": {},
     "output_type": "execute_result"
    }
   ],
   "source": [
    "#Get descriptive statistics\n",
    "df.describe().T"
   ]
  },
  {
   "cell_type": "markdown",
   "metadata": {},
   "source": [
    "#### *Keep in mind that some of these statistics are from categorical variables so the data is not valuable to us.  The values that we need to look at are the quantitative ones like tenure and monthly charges.  Also, notice that total charges is missing..."
   ]
  },
  {
   "cell_type": "markdown",
   "metadata": {},
   "source": [
    "### Our target variable for this dataset is \"churn\".  So let's look at how many churners and non churners we have in this dataset."
   ]
  },
  {
   "cell_type": "code",
   "execution_count": 6,
   "metadata": {},
   "outputs": [
    {
     "data": {
      "image/png": "[encoded data removed]",
      "text/plain": [
       "<Figure size 748.8x514.8 with 1 Axes>"
      ]
     },
     "metadata": {
      "needs_background": "light"
     },
     "output_type": "display_data"
    }
   ],
   "source": [
    "sns.countplot(df.churn)\n",
    "plt.show()\n",
    "#No     5174\n",
    "#Yes    1869"
   ]
  },
  {
   "cell_type": "markdown",
   "metadata": {},
   "source": [
    "### Let's also look at some distributions of individual variables:\n",
    "- narrowed down to features I was interested in exploring further in exploration phase\n",
    "- if everything checks out we can proceed to next step"
   ]
  },
  {
   "cell_type": "code",
   "execution_count": 7,
   "metadata": {},
   "outputs": [
    {
     "data": {
      "image/png": "[encoded data removed]",
      "text/plain": [
       "<Figure size 1296x720 with 9 Axes>"
      ]
     },
     "metadata": {
      "needs_background": "light"
     },
     "output_type": "display_data"
    }
   ],
   "source": [
    "# Nine subplots for features we are interested in exploring\n",
    "\n",
    "plt.figure(figsize=(18, 10))\n",
    "\n",
    "plt.subplot(331)\n",
    "sns.countplot(df.gender)\n",
    "\n",
    "plt.subplot(332)\n",
    "sns.countplot(df.senior_citizen)\n",
    "\n",
    "plt.subplot(333)\n",
    "sns.countplot(df.partner)\n",
    "\n",
    "plt.subplot(334)\n",
    "sns.countplot(df.dependents)\n",
    "\n",
    "plt.subplot(335)\n",
    "sns.countplot(df.internet_service_type)\n",
    "\n",
    "plt.subplot(336)\n",
    "sns.countplot(df.streaming_movies)\n",
    "\n",
    "plt.subplot(337)\n",
    "sns.countplot(df.streaming_tv)\n",
    "\n",
    "plt.subplot(338)\n",
    "sns.countplot(df.phone_service)\n",
    "\n",
    "plt.subplot(339)\n",
    "sns.countplot(df.tech_support)\n",
    "\n",
    "plt.tight_layout()\n",
    "plt.show()"
   ]
  },
  {
   "cell_type": "markdown",
   "metadata": {},
   "source": [
    "<div class=\"alert alert-block alert-success\"><b>Acquire Key Takeaways: </b>\n",
    "<br>- Telco dataset has 7043 rows of customers and 24 columns.\n",
    "<br>- The dataset has x categorical features and y quantitative features, many of which need to be re-categorized.  \n",
    "<br>- There are x customers that have churned and y customers that have stayed</div>"
   ]
  },
  {
   "cell_type": "markdown",
   "metadata": {},
   "source": [
    "# **Prepare**"
   ]
  },
  {
   "cell_type": "code",
   "execution_count": 8,
   "metadata": {},
   "outputs": [],
   "source": [
    "df = prepare.prep_telco()"
   ]
  },
  {
   "cell_type": "code",
   "execution_count": 9,
   "metadata": {},
   "outputs": [
    {
     "data": {
      "text/html": [
       "<div>\n",
       "<style scoped>\n",
       "    .dataframe tbody tr th:only-of-type {\n",
       "        vertical-align: middle;\n",
       "    }\n",
       "\n",
       "    .dataframe tbody tr th {\n",
       "        vertical-align: top;\n",
       "    }\n",
       "\n",
       "    .dataframe thead th {\n",
       "        text-align: right;\n",
       "    }\n",
       "</style>\n",
       "<table border=\"1\" class=\"dataframe\">\n",
       "  <thead>\n",
       "    <tr style=\"text-align: right;\">\n",
       "      <th></th>\n",
       "      <th>senior_citizen</th>\n",
       "      <th>partner</th>\n",
       "      <th>dependents</th>\n",
       "      <th>tenure</th>\n",
       "      <th>phone_service</th>\n",
       "      <th>online_security</th>\n",
       "      <th>online_backup</th>\n",
       "      <th>device_protection</th>\n",
       "      <th>tech_support</th>\n",
       "      <th>streaming_tv</th>\n",
       "      <th>...</th>\n",
       "      <th>paperless_billing</th>\n",
       "      <th>monthly_charges</th>\n",
       "      <th>total_charges</th>\n",
       "      <th>churn</th>\n",
       "      <th>phone_lines</th>\n",
       "      <th>fiber</th>\n",
       "      <th>no_internet</th>\n",
       "      <th>contract</th>\n",
       "      <th>is_female</th>\n",
       "      <th>tenure_years</th>\n",
       "    </tr>\n",
       "    <tr>\n",
       "      <th>customer_id</th>\n",
       "      <th></th>\n",
       "      <th></th>\n",
       "      <th></th>\n",
       "      <th></th>\n",
       "      <th></th>\n",
       "      <th></th>\n",
       "      <th></th>\n",
       "      <th></th>\n",
       "      <th></th>\n",
       "      <th></th>\n",
       "      <th></th>\n",
       "      <th></th>\n",
       "      <th></th>\n",
       "      <th></th>\n",
       "      <th></th>\n",
       "      <th></th>\n",
       "      <th></th>\n",
       "      <th></th>\n",
       "      <th></th>\n",
       "      <th></th>\n",
       "      <th></th>\n",
       "    </tr>\n",
       "  </thead>\n",
       "  <tbody>\n",
       "    <tr>\n",
       "      <th>0003-MKNFE</th>\n",
       "      <td>0</td>\n",
       "      <td>0</td>\n",
       "      <td>0</td>\n",
       "      <td>9</td>\n",
       "      <td>1</td>\n",
       "      <td>0</td>\n",
       "      <td>0</td>\n",
       "      <td>0</td>\n",
       "      <td>0</td>\n",
       "      <td>0</td>\n",
       "      <td>...</td>\n",
       "      <td>0</td>\n",
       "      <td>59.9</td>\n",
       "      <td>542.4</td>\n",
       "      <td>0</td>\n",
       "      <td>2</td>\n",
       "      <td>0</td>\n",
       "      <td>0</td>\n",
       "      <td>0</td>\n",
       "      <td>0</td>\n",
       "      <td>0.75</td>\n",
       "    </tr>\n",
       "    <tr>\n",
       "      <th>0013-MHZWF</th>\n",
       "      <td>0</td>\n",
       "      <td>0</td>\n",
       "      <td>1</td>\n",
       "      <td>9</td>\n",
       "      <td>1</td>\n",
       "      <td>0</td>\n",
       "      <td>0</td>\n",
       "      <td>0</td>\n",
       "      <td>1</td>\n",
       "      <td>1</td>\n",
       "      <td>...</td>\n",
       "      <td>1</td>\n",
       "      <td>69.4</td>\n",
       "      <td>571.45</td>\n",
       "      <td>0</td>\n",
       "      <td>1</td>\n",
       "      <td>0</td>\n",
       "      <td>0</td>\n",
       "      <td>0</td>\n",
       "      <td>1</td>\n",
       "      <td>0.75</td>\n",
       "    </tr>\n",
       "    <tr>\n",
       "      <th>0015-UOCOJ</th>\n",
       "      <td>1</td>\n",
       "      <td>0</td>\n",
       "      <td>0</td>\n",
       "      <td>7</td>\n",
       "      <td>1</td>\n",
       "      <td>1</td>\n",
       "      <td>0</td>\n",
       "      <td>0</td>\n",
       "      <td>0</td>\n",
       "      <td>0</td>\n",
       "      <td>...</td>\n",
       "      <td>1</td>\n",
       "      <td>48.2</td>\n",
       "      <td>340.35</td>\n",
       "      <td>0</td>\n",
       "      <td>1</td>\n",
       "      <td>0</td>\n",
       "      <td>0</td>\n",
       "      <td>0</td>\n",
       "      <td>1</td>\n",
       "      <td>0.58</td>\n",
       "    </tr>\n",
       "    <tr>\n",
       "      <th>0023-HGHWL</th>\n",
       "      <td>1</td>\n",
       "      <td>0</td>\n",
       "      <td>0</td>\n",
       "      <td>1</td>\n",
       "      <td>0</td>\n",
       "      <td>0</td>\n",
       "      <td>0</td>\n",
       "      <td>0</td>\n",
       "      <td>0</td>\n",
       "      <td>0</td>\n",
       "      <td>...</td>\n",
       "      <td>1</td>\n",
       "      <td>25.1</td>\n",
       "      <td>25.1</td>\n",
       "      <td>1</td>\n",
       "      <td>0</td>\n",
       "      <td>0</td>\n",
       "      <td>0</td>\n",
       "      <td>0</td>\n",
       "      <td>0</td>\n",
       "      <td>0.08</td>\n",
       "    </tr>\n",
       "    <tr>\n",
       "      <th>0032-PGELS</th>\n",
       "      <td>0</td>\n",
       "      <td>1</td>\n",
       "      <td>1</td>\n",
       "      <td>1</td>\n",
       "      <td>0</td>\n",
       "      <td>1</td>\n",
       "      <td>0</td>\n",
       "      <td>0</td>\n",
       "      <td>0</td>\n",
       "      <td>0</td>\n",
       "      <td>...</td>\n",
       "      <td>0</td>\n",
       "      <td>30.5</td>\n",
       "      <td>30.5</td>\n",
       "      <td>1</td>\n",
       "      <td>0</td>\n",
       "      <td>0</td>\n",
       "      <td>0</td>\n",
       "      <td>0</td>\n",
       "      <td>1</td>\n",
       "      <td>0.08</td>\n",
       "    </tr>\n",
       "  </tbody>\n",
       "</table>\n",
       "<p>5 rows × 21 columns</p>\n",
       "</div>"
      ],
      "text/plain": [
       "             senior_citizen  partner  dependents  tenure  phone_service  \\\n",
       "customer_id                                                               \n",
       "0003-MKNFE                0        0           0       9              1   \n",
       "0013-MHZWF                0        0           1       9              1   \n",
       "0015-UOCOJ                1        0           0       7              1   \n",
       "0023-HGHWL                1        0           0       1              0   \n",
       "0032-PGELS                0        1           1       1              0   \n",
       "\n",
       "             online_security  online_backup  device_protection  tech_support  \\\n",
       "customer_id                                                                    \n",
       "0003-MKNFE                 0              0                  0             0   \n",
       "0013-MHZWF                 0              0                  0             1   \n",
       "0015-UOCOJ                 1              0                  0             0   \n",
       "0023-HGHWL                 0              0                  0             0   \n",
       "0032-PGELS                 1              0                  0             0   \n",
       "\n",
       "             streaming_tv  ...  paperless_billing  monthly_charges  \\\n",
       "customer_id                ...                                       \n",
       "0003-MKNFE              0  ...                  0             59.9   \n",
       "0013-MHZWF              1  ...                  1             69.4   \n",
       "0015-UOCOJ              0  ...                  1             48.2   \n",
       "0023-HGHWL              0  ...                  1             25.1   \n",
       "0032-PGELS              0  ...                  0             30.5   \n",
       "\n",
       "             total_charges churn  phone_lines  fiber  no_internet  contract  \\\n",
       "customer_id                                                                   \n",
       "0003-MKNFE           542.4     0            2      0            0         0   \n",
       "0013-MHZWF          571.45     0            1      0            0         0   \n",
       "0015-UOCOJ          340.35     0            1      0            0         0   \n",
       "0023-HGHWL            25.1     1            0      0            0         0   \n",
       "0032-PGELS            30.5     1            0      0            0         0   \n",
       "\n",
       "             is_female  tenure_years  \n",
       "customer_id                           \n",
       "0003-MKNFE           0          0.75  \n",
       "0013-MHZWF           1          0.75  \n",
       "0015-UOCOJ           1          0.58  \n",
       "0023-HGHWL           0          0.08  \n",
       "0032-PGELS           1          0.08  \n",
       "\n",
       "[5 rows x 21 columns]"
      ]
     },
     "execution_count": 9,
     "metadata": {},
     "output_type": "execute_result"
    }
   ],
   "source": [
    "df.head()"
   ]
  },
  {
   "cell_type": "markdown",
   "metadata": {},
   "source": [
    "<div class=\"alert alert-block alert-success\"><b>Prepare Key Takeaways:</b>\n",
    "<br>- Dropped redundant features:  contract_type_id, internet_service_type_id, payment_type_id\n",
    "<br>- Changed Yes/No features to 1/0: partner, dependents, phone_service, paperless_billing, and churn \n",
    "<br>- Changed features with No/None/Yes to 0/0/1:   online_security, online_backup, tech_support, streaming_tv, streaming_movies, device_protection  \n",
    "<br>- Made dummies: internet_service_type\n",
    "<br>- Renamed dummies to fiber and none\n",
    "<br>- Changed contract_type to 0=MTM, 1=1 year, 2=2 year\n",
    "<br>- Changed gender to is_female with 0=Male, 1=Female   \n",
    "<br>- Dropped the old feature columns: multiple_lines, internet_service_type, contract_type, gender, payment_type\n",
    "<br>- Changed total charges from object to numeric\n",
    "<br>- Filled in missing charges from total charges with 0\n",
    "<br>- Added tenure_years as new feature\n",
    "<br>- Reset the index to the customer_id</div>"
   ]
  },
  {
   "cell_type": "markdown",
   "metadata": {},
   "source": [
    "# **Explore**"
   ]
  },
  {
   "cell_type": "code",
   "execution_count": 10,
   "metadata": {
    "scrolled": true
   },
   "outputs": [],
   "source": [
    "def telco_split(df):\n",
    "    # performs train, validate, test split on telco data, stratified by churn\n",
    "    train_validate, test = train_test_split(df, test_size=.2, \n",
    "                                        random_state=123, \n",
    "                                        stratify=df.churn)\n",
    "    train, validate = train_test_split(train_validate, test_size=.3, \n",
    "                                   random_state=123, \n",
    "                                   stratify=train_validate.churn)\n",
    "    return train, validate, test"
   ]
  },
  {
   "cell_type": "code",
   "execution_count": 11,
   "metadata": {},
   "outputs": [],
   "source": [
    "train, validate, test = telco_split(df)"
   ]
  },
  {
   "cell_type": "code",
   "execution_count": 12,
   "metadata": {},
   "outputs": [
    {
     "data": {
      "text/plain": [
       "(3943, 21)"
      ]
     },
     "execution_count": 12,
     "metadata": {},
     "output_type": "execute_result"
    }
   ],
   "source": [
    "train.shape"
   ]
  },
  {
   "cell_type": "code",
   "execution_count": 13,
   "metadata": {},
   "outputs": [
    {
     "data": {
      "text/plain": [
       "(1691, 21)"
      ]
     },
     "execution_count": 13,
     "metadata": {},
     "output_type": "execute_result"
    }
   ],
   "source": [
    "validate.shape"
   ]
  },
  {
   "cell_type": "code",
   "execution_count": 14,
   "metadata": {},
   "outputs": [
    {
     "data": {
      "text/plain": [
       "(1409, 21)"
      ]
     },
     "execution_count": 14,
     "metadata": {},
     "output_type": "execute_result"
    }
   ],
   "source": [
    "test.shape"
   ]
  },
  {
   "cell_type": "code",
   "execution_count": 30,
   "metadata": {},
   "outputs": [],
   "source": [
    "# Now to separate X and y values\n",
    "X_train = train.drop(columns=[\"churn\"])\n",
    "y_train = train.churn\n",
    "\n",
    "X_validate = validate.drop(columns=[\"churn\"])\n",
    "y_validate = validate.churn\n",
    "\n",
    "X_test = test.drop(columns=[\"churn\"])\n",
    "y_test = test.churn"
   ]
  },
  {
   "cell_type": "markdown",
   "metadata": {},
   "source": [
    "### Questions\n",
    "1. What months do customers churn the most in? What months into service can we target to keep our customers from churning?\n",
    "2. Are customers more likely to churn depending on theri internet type? What internet services have the highest amount of churners? Are our services operating as described (internet speed)?  Can customers get better internet serice for less somewhere else?\n",
    "3. Do people who have tech support have a lower rate of churn? How is our customer service rating?  Is there a specific service that requires more tech support?  Can we optimize tech support to the services that need it most?"
   ]
  },
  {
   "cell_type": "code",
   "execution_count": 16,
   "metadata": {},
   "outputs": [],
   "source": [
    "# categorical and quantitative variables\n",
    "cat_vars = ['senior_citizen', 'partner', 'dependents', \n",
    "            'phone_service','contract', 'tech_support',  \n",
    "            'streaming_tv', 'streaming_movies', 'fiber', 'is_female']\n",
    "\n",
    "quant_vars = ['tenure', 'monthly_charges', 'tenure_years']"
   ]
  },
  {
   "cell_type": "code",
   "execution_count": 17,
   "metadata": {
    "scrolled": false
   },
   "outputs": [
    {
     "data": {
      "image/png": "[encoded data removed]",
      "text/plain": [
       "<Figure size 144x144 with 1 Axes>"
      ]
     },
     "metadata": {
      "needs_background": "light"
     },
     "output_type": "display_data"
    },
    {
     "name": "stdout",
     "output_type": "stream",
     "text": [
      "   senior_citizen  Count  Percent\n",
      "0               0   5901    83.79\n",
      "1               1   1142    16.21\n",
      "_________________________________________________________________\n"
     ]
    },
    {
     "data": {
      "image/png": "[encoded data removed]",
      "text/plain": [
       "<Figure size 144x144 with 1 Axes>"
      ]
     },
     "metadata": {
      "needs_background": "light"
     },
     "output_type": "display_data"
    },
    {
     "name": "stdout",
     "output_type": "stream",
     "text": [
      "   partner  Count  Percent\n",
      "0        0   3641     51.7\n",
      "1        1   3402     48.3\n",
      "_________________________________________________________________\n"
     ]
    },
    {
     "data": {
      "image/png": "[encoded data removed]",
      "text/plain": [
       "<Figure size 144x144 with 1 Axes>"
      ]
     },
     "metadata": {
      "needs_background": "light"
     },
     "output_type": "display_data"
    },
    {
     "name": "stdout",
     "output_type": "stream",
     "text": [
      "   dependents  Count  Percent\n",
      "0           0   4933    70.04\n",
      "1           1   2110    29.96\n",
      "_________________________________________________________________\n"
     ]
    },
    {
     "data": {
      "image/png": "[encoded data removed]",
      "text/plain": [
       "<Figure size 144x144 with 1 Axes>"
      ]
     },
     "metadata": {
      "needs_background": "light"
     },
     "output_type": "display_data"
    },
    {
     "name": "stdout",
     "output_type": "stream",
     "text": [
      "   phone_service  Count  Percent\n",
      "1              1   6361    90.32\n",
      "0              0    682     9.68\n",
      "_________________________________________________________________\n"
     ]
    },
    {
     "data": {
      "image/png": "[encoded data removed]",
      "text/plain": [
       "<Figure size 144x144 with 1 Axes>"
      ]
     },
     "metadata": {
      "needs_background": "light"
     },
     "output_type": "display_data"
    },
    {
     "name": "stdout",
     "output_type": "stream",
     "text": [
      "   contract  Count  Percent\n",
      "0         0   3875    55.02\n",
      "2         1   1695    24.07\n",
      "1         2   1473    20.91\n",
      "_________________________________________________________________\n"
     ]
    },
    {
     "data": {
      "image/png": "[encoded data removed]",
      "text/plain": [
       "<Figure size 144x144 with 1 Axes>"
      ]
     },
     "metadata": {
      "needs_background": "light"
     },
     "output_type": "display_data"
    },
    {
     "name": "stdout",
     "output_type": "stream",
     "text": [
      "   tech_support  Count  Percent\n",
      "0             0   4999    70.98\n",
      "1             1   2044    29.02\n",
      "_________________________________________________________________\n"
     ]
    },
    {
     "data": {
      "image/png": "[encoded data removed]",
      "text/plain": [
       "<Figure size 144x144 with 1 Axes>"
      ]
     },
     "metadata": {
      "needs_background": "light"
     },
     "output_type": "display_data"
    },
    {
     "name": "stdout",
     "output_type": "stream",
     "text": [
      "   streaming_tv  Count  Percent\n",
      "0             0   4336    61.56\n",
      "1             1   2707    38.44\n",
      "_________________________________________________________________\n"
     ]
    },
    {
     "data": {
      "image/png": "[encoded data removed]",
      "text/plain": [
       "<Figure size 144x144 with 1 Axes>"
      ]
     },
     "metadata": {
      "needs_background": "light"
     },
     "output_type": "display_data"
    },
    {
     "name": "stdout",
     "output_type": "stream",
     "text": [
      "   streaming_movies  Count  Percent\n",
      "0                 1   4311    61.21\n",
      "1                 0   2732    38.79\n",
      "_________________________________________________________________\n"
     ]
    },
    {
     "data": {
      "image/png": "[encoded data removed]",
      "text/plain": [
       "<Figure size 144x144 with 1 Axes>"
      ]
     },
     "metadata": {
      "needs_background": "light"
     },
     "output_type": "display_data"
    },
    {
     "name": "stdout",
     "output_type": "stream",
     "text": [
      "   fiber  Count  Percent\n",
      "0      0   3947    56.04\n",
      "1      1   3096    43.96\n",
      "_________________________________________________________________\n"
     ]
    },
    {
     "data": {
      "image/png": "[encoded data removed]",
      "text/plain": [
       "<Figure size 144x144 with 1 Axes>"
      ]
     },
     "metadata": {
      "needs_background": "light"
     },
     "output_type": "display_data"
    },
    {
     "name": "stdout",
     "output_type": "stream",
     "text": [
      "   is_female  Count  Percent\n",
      "0          0   3555    50.48\n",
      "1          1   3488    49.52\n",
      "_________________________________________________________________\n"
     ]
    },
    {
     "data": {
      "image/png": "[encoded data removed]",
      "text/plain": [
       "<Figure size 576x144 with 2 Axes>"
      ]
     },
     "metadata": {
      "needs_background": "light"
     },
     "output_type": "display_data"
    },
    {
     "name": "stdout",
     "output_type": "stream",
     "text": [
      "count    7043.000000\n",
      "mean       32.371149\n",
      "std        24.559481\n",
      "min         0.000000\n",
      "25%         9.000000\n",
      "50%        29.000000\n",
      "75%        55.000000\n",
      "max        72.000000\n",
      "Name: tenure, dtype: float64\n"
     ]
    },
    {
     "data": {
      "image/png": "[encoded data removed]",
      "text/plain": [
       "<Figure size 576x144 with 2 Axes>"
      ]
     },
     "metadata": {
      "needs_background": "light"
     },
     "output_type": "display_data"
    },
    {
     "name": "stdout",
     "output_type": "stream",
     "text": [
      "count    7043.000000\n",
      "mean       64.761692\n",
      "std        30.090047\n",
      "min        18.250000\n",
      "25%        35.500000\n",
      "50%        70.350000\n",
      "75%        89.850000\n",
      "max       118.750000\n",
      "Name: monthly_charges, dtype: float64\n"
     ]
    },
    {
     "data": {
      "image/png": "[encoded data removed]",
      "text/plain": [
       "<Figure size 576x144 with 2 Axes>"
      ]
     },
     "metadata": {
      "needs_background": "light"
     },
     "output_type": "display_data"
    },
    {
     "name": "stdout",
     "output_type": "stream",
     "text": [
      "count    7043.000000\n",
      "mean        2.697402\n",
      "std         2.046968\n",
      "min         0.000000\n",
      "25%         0.750000\n",
      "50%         2.420000\n",
      "75%         4.580000\n",
      "max         6.000000\n",
      "Name: tenure_years, dtype: float64\n"
     ]
    }
   ],
   "source": [
    "explore.explore_univariate(df, cat_vars, quant_vars)"
   ]
  },
  {
   "cell_type": "code",
   "execution_count": 18,
   "metadata": {
    "scrolled": false
   },
   "outputs": [
    {
     "name": "stdout",
     "output_type": "stream",
     "text": [
      "senior_citizen \n",
      "_____________________\n",
      "\n",
      "         chi2       p-value  degrees of freedom\n",
      "0  106.292446  6.361851e-25                   1\n",
      "\n",
      "observed:\n",
      " churn              0     1   All\n",
      "senior_citizen                  \n",
      "0               2532   770  3302\n",
      "1                365   276   641\n",
      "All             2897  1046  3943\n",
      "\n",
      "expected:\n",
      "              0           1\n",
      "0  2426.044636  875.955364\n",
      "1   470.955364  170.044636\n"
     ]
    },
    {
     "data": {
      "image/png": "[encoded data removed]",
      "text/plain": [
       "<Figure size 144x144 with 1 Axes>"
      ]
     },
     "metadata": {
      "needs_background": "light"
     },
     "output_type": "display_data"
    },
    {
     "name": "stdout",
     "output_type": "stream",
     "text": [
      "\n",
      "_____________________\n",
      "\n",
      "partner \n",
      "_____________________\n",
      "\n",
      "        chi2       p-value  degrees of freedom\n",
      "0  59.095958  1.501674e-14                   1\n",
      "\n",
      "observed:\n",
      " churn       0     1   All\n",
      "partner                  \n",
      "0        1383   645  2028\n",
      "1        1514   401  1915\n",
      "All      2897  1046  3943\n",
      "\n",
      "expected:\n",
      "              0           1\n",
      "0  1490.011666  537.988334\n",
      "1  1406.988334  508.011666\n"
     ]
    },
    {
     "data": {
      "image/png": "[encoded data removed]",
      "text/plain": [
       "<Figure size 144x144 with 1 Axes>"
      ]
     },
     "metadata": {
      "needs_background": "light"
     },
     "output_type": "display_data"
    },
    {
     "name": "stdout",
     "output_type": "stream",
     "text": [
      "\n",
      "_____________________\n",
      "\n",
      "dependents \n",
      "_____________________\n",
      "\n",
      "         chi2       p-value  degrees of freedom\n",
      "0  104.078831  1.944245e-24                   1\n",
      "\n",
      "observed:\n",
      " churn          0     1   All\n",
      "dependents                  \n",
      "0           1887   859  2746\n",
      "1           1010   187  1197\n",
      "All         2897  1046  3943\n",
      "\n",
      "expected:\n",
      "              0           1\n",
      "0  2017.540451  728.459549\n",
      "1   879.459549  317.540451\n"
     ]
    },
    {
     "data": {
      "image/png": "[encoded data removed]",
      "text/plain": [
       "<Figure size 144x144 with 1 Axes>"
      ]
     },
     "metadata": {
      "needs_background": "light"
     },
     "output_type": "display_data"
    },
    {
     "name": "stdout",
     "output_type": "stream",
     "text": [
      "\n",
      "_____________________\n",
      "\n",
      "phone_service \n",
      "_____________________\n",
      "\n",
      "       chi2   p-value  degrees of freedom\n",
      "0  0.031921  0.858201                   1\n",
      "\n",
      "observed:\n",
      " churn             0     1   All\n",
      "phone_service                  \n",
      "0               276    97   373\n",
      "1              2621   949  3570\n",
      "All            2897  1046  3943\n",
      "\n",
      "expected:\n",
      "              0           1\n",
      "0   274.050469   98.949531\n",
      "1  2622.949531  947.050469\n"
     ]
    },
    {
     "data": {
      "image/png": "[encoded data removed]",
      "text/plain": [
       "<Figure size 144x144 with 1 Axes>"
      ]
     },
     "metadata": {
      "needs_background": "light"
     },
     "output_type": "display_data"
    },
    {
     "name": "stdout",
     "output_type": "stream",
     "text": [
      "\n",
      "_____________________\n",
      "\n",
      "contract \n",
      "_____________________\n",
      "\n",
      "         chi2        p-value  degrees of freedom\n",
      "0  625.295741  1.654837e-136                   2\n",
      "\n",
      "observed:\n",
      " churn        0     1   All\n",
      "contract                  \n",
      "0         1269   919  2188\n",
      "1          730   103   833\n",
      "2          898    24   922\n",
      "All       2897  1046  3943\n",
      "\n",
      "expected:\n",
      "              0           1\n",
      "0  1607.566827  580.433173\n",
      "1   612.021557  220.978443\n",
      "2   677.411616  244.588384\n"
     ]
    },
    {
     "data": {
      "image/png": "[encoded data removed]",
      "text/plain": [
       "<Figure size 144x144 with 1 Axes>"
      ]
     },
     "metadata": {
      "needs_background": "light"
     },
     "output_type": "display_data"
    },
    {
     "name": "stdout",
     "output_type": "stream",
     "text": [
      "\n",
      "_____________________\n",
      "\n",
      "tech_support \n",
      "_____________________\n",
      "\n",
      "         chi2       p-value  degrees of freedom\n",
      "0  111.221776  5.290815e-26                   1\n",
      "\n",
      "observed:\n",
      " churn            0     1   All\n",
      "tech_support                  \n",
      "0             1941   881  2822\n",
      "1              956   165  1121\n",
      "All           2897  1046  3943\n",
      "\n",
      "expected:\n",
      "              0           1\n",
      "0  2073.379153  748.620847\n",
      "1   823.620847  297.379153\n"
     ]
    },
    {
     "data": {
      "image/png": "[encoded data removed]",
      "text/plain": [
       "<Figure size 144x144 with 1 Axes>"
      ]
     },
     "metadata": {
      "needs_background": "light"
     },
     "output_type": "display_data"
    },
    {
     "name": "stdout",
     "output_type": "stream",
     "text": [
      "\n",
      "_____________________\n",
      "\n",
      "streaming_tv \n",
      "_____________________\n",
      "\n",
      "        chi2   p-value  degrees of freedom\n",
      "0  17.559103  0.000028                   1\n",
      "\n",
      "observed:\n",
      " churn            0     1   All\n",
      "streaming_tv                  \n",
      "0             1854   592  2446\n",
      "1             1043   454  1497\n",
      "All           2897  1046  3943\n",
      "\n",
      "expected:\n",
      "              0           1\n",
      "0  1797.124524  648.875476\n",
      "1  1099.875476  397.124524\n"
     ]
    },
    {
     "data": {
      "image/png": "[encoded data removed]",
      "text/plain": [
       "<Figure size 144x144 with 1 Axes>"
      ]
     },
     "metadata": {
      "needs_background": "light"
     },
     "output_type": "display_data"
    },
    {
     "name": "stdout",
     "output_type": "stream",
     "text": [
      "\n",
      "_____________________\n",
      "\n",
      "streaming_movies \n",
      "_____________________\n",
      "\n",
      "       chi2   p-value  degrees of freedom\n",
      "0  12.56845  0.000392                   1\n",
      "\n",
      "observed:\n",
      " churn                0     1   All\n",
      "streaming_movies                  \n",
      "0                 1822   592  2414\n",
      "1                 1075   454  1529\n",
      "All               2897  1046  3943\n",
      "\n",
      "expected:\n",
      "              0           1\n",
      "0  1773.613492  640.386508\n",
      "1  1123.386508  405.613492\n"
     ]
    },
    {
     "data": {
      "image/png": "[encoded data removed]",
      "text/plain": [
       "<Figure size 144x144 with 1 Axes>"
      ]
     },
     "metadata": {
      "needs_background": "light"
     },
     "output_type": "display_data"
    },
    {
     "name": "stdout",
     "output_type": "stream",
     "text": [
      "\n",
      "_____________________\n",
      "\n",
      "fiber \n",
      "_____________________\n",
      "\n",
      "         chi2       p-value  degrees of freedom\n",
      "0  362.467375  8.171942e-81                   1\n",
      "\n",
      "observed:\n",
      " churn     0     1   All\n",
      "fiber                  \n",
      "0      1879   321  2200\n",
      "1      1018   725  1743\n",
      "All    2897  1046  3943\n",
      "\n",
      "expected:\n",
      "              0           1\n",
      "0  1616.383464  583.616536\n",
      "1  1280.616536  462.383464\n"
     ]
    },
    {
     "data": {
      "image/png": "[encoded data removed]",
      "text/plain": [
       "<Figure size 144x144 with 1 Axes>"
      ]
     },
     "metadata": {
      "needs_background": "light"
     },
     "output_type": "display_data"
    },
    {
     "name": "stdout",
     "output_type": "stream",
     "text": [
      "\n",
      "_____________________\n",
      "\n",
      "is_female \n",
      "_____________________\n",
      "\n",
      "       chi2   p-value  degrees of freedom\n",
      "0  0.927191  0.335594                   1\n",
      "\n",
      "observed:\n",
      " churn         0     1   All\n",
      "is_female                  \n",
      "0          1424   533  1957\n",
      "1          1473   513  1986\n",
      "All        2897  1046  3943\n",
      "\n",
      "expected:\n",
      "              0           1\n",
      "0  1437.846564  519.153436\n",
      "1  1459.153436  526.846564\n"
     ]
    },
    {
     "data": {
      "image/png": "[encoded data removed]",
      "text/plain": [
       "<Figure size 144x144 with 1 Axes>"
      ]
     },
     "metadata": {
      "needs_background": "light"
     },
     "output_type": "display_data"
    },
    {
     "name": "stdout",
     "output_type": "stream",
     "text": [
      "\n",
      "_____________________\n",
      "\n",
      "tenure \n",
      "____________________\n",
      "\n"
     ]
    },
    {
     "data": {
      "image/png": "[encoded data removed]",
      "text/plain": [
       "<Figure size 288x288 with 1 Axes>"
      ]
     },
     "metadata": {
      "needs_background": "light"
     },
     "output_type": "display_data"
    },
    {
     "name": "stdout",
     "output_type": "stream",
     "text": [
      "        count       mean        std  min   25%   50%   75%   max\n",
      "churn                                                           \n",
      "0      2897.0  37.021056  24.067195  0.0  14.0  37.0  60.0  72.0\n",
      "1      1046.0  18.228489  19.391963  1.0   2.0  10.0  30.0  72.0 \n",
      "\n",
      "\n",
      "Mann-Whitney Test:\n",
      " MannwhitneyuResult(statistic=2215778.5, pvalue=2.6225178502743525e-109)\n",
      "\n",
      "____________________\n",
      "\n",
      "monthly_charges \n",
      "____________________\n",
      "\n"
     ]
    },
    {
     "data": {
      "image/png": "[encoded data removed]",
      "text/plain": [
       "<Figure size 288x288 with 1 Axes>"
      ]
     },
     "metadata": {
      "needs_background": "light"
     },
     "output_type": "display_data"
    },
    {
     "name": "stdout",
     "output_type": "stream",
     "text": [
      "        count       mean        std    min      25%    50%      75%     max\n",
      "churn                                                                      \n",
      "0      2897.0  61.176976  31.293724  18.25  25.0500  64.35  88.9500  118.65\n",
      "1      1046.0  74.376052  24.624883  18.85  56.8125  79.50  94.0375  118.35 \n",
      "\n",
      "\n",
      "Mann-Whitney Test:\n",
      " MannwhitneyuResult(statistic=1149040.0, pvalue=4.103131725466243e-31)\n",
      "\n",
      "____________________\n",
      "\n",
      "tenure_years \n",
      "____________________\n",
      "\n"
     ]
    },
    {
     "data": {
      "image/png": "[encoded data removed]",
      "text/plain": [
       "<Figure size 288x288 with 1 Axes>"
      ]
     },
     "metadata": {
      "needs_background": "light"
     },
     "output_type": "display_data"
    },
    {
     "name": "stdout",
     "output_type": "stream",
     "text": [
      "        count      mean       std   min   25%   50%  75%  max\n",
      "churn                                                        \n",
      "0      2897.0  3.085022  2.005771  0.00  1.17  3.08  5.0  6.0\n",
      "1      1046.0  1.518432  1.616508  0.08  0.17  0.83  2.5  6.0 \n",
      "\n",
      "\n",
      "Mann-Whitney Test:\n",
      " MannwhitneyuResult(statistic=2215778.5, pvalue=2.6225178502743525e-109)\n",
      "\n",
      "____________________\n",
      "\n"
     ]
    }
   ],
   "source": [
    "explore.explore_bivariate(train, 'churn', cat_vars, quant_vars)"
   ]
  },
  {
   "cell_type": "code",
   "execution_count": 19,
   "metadata": {},
   "outputs": [
    {
     "data": {
      "image/png": "[encoded data removed]",
      "text/plain": [
       "<Figure size 1440x720 with 2 Axes>"
      ]
     },
     "metadata": {
      "needs_background": "light"
     },
     "output_type": "display_data"
    }
   ],
   "source": [
    "def show_correlations(df, show_chart = True):\n",
    "    fig = plt.figure(figsize = (20,10))\n",
    "    corr = df.corr()\n",
    "    if show_chart == True:\n",
    "        sns.heatmap(corr, \n",
    "                    xticklabels=corr.columns.values,\n",
    "                    yticklabels=corr.columns.values,\n",
    "                    annot=True)\n",
    "    return corr\n",
    "\n",
    "correlation_df = show_correlations(X_train,show_chart=True)"
   ]
  },
  {
   "cell_type": "code",
   "execution_count": 20,
   "metadata": {},
   "outputs": [
    {
     "data": {
      "text/html": [
       "<div>\n",
       "<style scoped>\n",
       "    .dataframe tbody tr th:only-of-type {\n",
       "        vertical-align: middle;\n",
       "    }\n",
       "\n",
       "    .dataframe tbody tr th {\n",
       "        vertical-align: top;\n",
       "    }\n",
       "\n",
       "    .dataframe thead th {\n",
       "        text-align: right;\n",
       "    }\n",
       "</style>\n",
       "<table border=\"1\" class=\"dataframe\">\n",
       "  <thead>\n",
       "    <tr style=\"text-align: right;\">\n",
       "      <th></th>\n",
       "      <th>senior_citizen</th>\n",
       "      <th>partner</th>\n",
       "      <th>dependents</th>\n",
       "      <th>tenure</th>\n",
       "      <th>phone_service</th>\n",
       "      <th>online_security</th>\n",
       "      <th>online_backup</th>\n",
       "      <th>device_protection</th>\n",
       "      <th>tech_support</th>\n",
       "      <th>streaming_tv</th>\n",
       "      <th>streaming_movies</th>\n",
       "      <th>paperless_billing</th>\n",
       "      <th>monthly_charges</th>\n",
       "      <th>churn</th>\n",
       "      <th>phone_lines</th>\n",
       "      <th>fiber</th>\n",
       "      <th>no_internet</th>\n",
       "      <th>contract</th>\n",
       "      <th>is_female</th>\n",
       "      <th>tenure_years</th>\n",
       "    </tr>\n",
       "  </thead>\n",
       "  <tbody>\n",
       "    <tr>\n",
       "      <th>senior_citizen</th>\n",
       "      <td>1.000000</td>\n",
       "      <td>0.017445</td>\n",
       "      <td>-0.211666</td>\n",
       "      <td>0.016671</td>\n",
       "      <td>-0.003200</td>\n",
       "      <td>-0.028823</td>\n",
       "      <td>0.072176</td>\n",
       "      <td>0.037732</td>\n",
       "      <td>-0.049123</td>\n",
       "      <td>0.097215</td>\n",
       "      <td>0.134632</td>\n",
       "      <td>0.159859</td>\n",
       "      <td>0.220500</td>\n",
       "      <td>0.164965</td>\n",
       "      <td>0.089084</td>\n",
       "      <td>0.261095</td>\n",
       "      <td>-0.188338</td>\n",
       "      <td>-0.147086</td>\n",
       "      <td>-0.021800</td>\n",
       "      <td>0.016700</td>\n",
       "    </tr>\n",
       "    <tr>\n",
       "      <th>partner</th>\n",
       "      <td>0.017445</td>\n",
       "      <td>1.000000</td>\n",
       "      <td>0.444366</td>\n",
       "      <td>0.360852</td>\n",
       "      <td>0.012406</td>\n",
       "      <td>0.138088</td>\n",
       "      <td>0.139104</td>\n",
       "      <td>0.147650</td>\n",
       "      <td>0.121001</td>\n",
       "      <td>0.119148</td>\n",
       "      <td>0.105612</td>\n",
       "      <td>-0.013207</td>\n",
       "      <td>0.094952</td>\n",
       "      <td>-0.122998</td>\n",
       "      <td>0.104288</td>\n",
       "      <td>0.011725</td>\n",
       "      <td>-0.000164</td>\n",
       "      <td>0.275681</td>\n",
       "      <td>0.015688</td>\n",
       "      <td>0.360863</td>\n",
       "    </tr>\n",
       "    <tr>\n",
       "      <th>dependents</th>\n",
       "      <td>-0.211666</td>\n",
       "      <td>0.444366</td>\n",
       "      <td>1.000000</td>\n",
       "      <td>0.153251</td>\n",
       "      <td>0.000441</td>\n",
       "      <td>0.071248</td>\n",
       "      <td>0.033586</td>\n",
       "      <td>0.008807</td>\n",
       "      <td>0.071767</td>\n",
       "      <td>-0.015290</td>\n",
       "      <td>-0.047735</td>\n",
       "      <td>-0.121093</td>\n",
       "      <td>-0.110928</td>\n",
       "      <td>-0.163093</td>\n",
       "      <td>-0.005204</td>\n",
       "      <td>-0.158968</td>\n",
       "      <td>0.142754</td>\n",
       "      <td>0.238688</td>\n",
       "      <td>0.010037</td>\n",
       "      <td>0.153251</td>\n",
       "    </tr>\n",
       "    <tr>\n",
       "      <th>tenure</th>\n",
       "      <td>0.016671</td>\n",
       "      <td>0.360852</td>\n",
       "      <td>0.153251</td>\n",
       "      <td>1.000000</td>\n",
       "      <td>-0.001410</td>\n",
       "      <td>0.325468</td>\n",
       "      <td>0.356042</td>\n",
       "      <td>0.360221</td>\n",
       "      <td>0.317838</td>\n",
       "      <td>0.284566</td>\n",
       "      <td>0.287765</td>\n",
       "      <td>0.007571</td>\n",
       "      <td>0.256249</td>\n",
       "      <td>-0.340436</td>\n",
       "      <td>0.249331</td>\n",
       "      <td>0.041315</td>\n",
       "      <td>-0.050610</td>\n",
       "      <td>0.659006</td>\n",
       "      <td>0.006889</td>\n",
       "      <td>0.999999</td>\n",
       "    </tr>\n",
       "    <tr>\n",
       "      <th>phone_service</th>\n",
       "      <td>-0.003200</td>\n",
       "      <td>0.012406</td>\n",
       "      <td>0.000441</td>\n",
       "      <td>-0.001410</td>\n",
       "      <td>1.000000</td>\n",
       "      <td>-0.088639</td>\n",
       "      <td>-0.043403</td>\n",
       "      <td>-0.061009</td>\n",
       "      <td>-0.082523</td>\n",
       "      <td>-0.011405</td>\n",
       "      <td>-0.039768</td>\n",
       "      <td>0.015999</td>\n",
       "      <td>0.247370</td>\n",
       "      <td>0.003827</td>\n",
       "      <td>0.670973</td>\n",
       "      <td>0.287712</td>\n",
       "      <td>0.171100</td>\n",
       "      <td>-0.001843</td>\n",
       "      <td>-0.008889</td>\n",
       "      <td>-0.001344</td>\n",
       "    </tr>\n",
       "    <tr>\n",
       "      <th>online_security</th>\n",
       "      <td>-0.028823</td>\n",
       "      <td>0.138088</td>\n",
       "      <td>0.071248</td>\n",
       "      <td>0.325468</td>\n",
       "      <td>-0.088639</td>\n",
       "      <td>1.000000</td>\n",
       "      <td>0.280343</td>\n",
       "      <td>0.277584</td>\n",
       "      <td>0.352969</td>\n",
       "      <td>0.189083</td>\n",
       "      <td>0.189208</td>\n",
       "      <td>-0.006170</td>\n",
       "      <td>0.310338</td>\n",
       "      <td>-0.153262</td>\n",
       "      <td>0.042289</td>\n",
       "      <td>-0.005694</td>\n",
       "      <td>-0.337159</td>\n",
       "      <td>0.242924</td>\n",
       "      <td>0.018824</td>\n",
       "      <td>0.325497</td>\n",
       "    </tr>\n",
       "    <tr>\n",
       "      <th>online_backup</th>\n",
       "      <td>0.072176</td>\n",
       "      <td>0.139104</td>\n",
       "      <td>0.033586</td>\n",
       "      <td>0.356042</td>\n",
       "      <td>-0.043403</td>\n",
       "      <td>0.280343</td>\n",
       "      <td>1.000000</td>\n",
       "      <td>0.290100</td>\n",
       "      <td>0.270554</td>\n",
       "      <td>0.272109</td>\n",
       "      <td>0.269093</td>\n",
       "      <td>0.125131</td>\n",
       "      <td>0.435075</td>\n",
       "      <td>-0.073574</td>\n",
       "      <td>0.136527</td>\n",
       "      <td>0.167882</td>\n",
       "      <td>-0.376576</td>\n",
       "      <td>0.152006</td>\n",
       "      <td>0.010339</td>\n",
       "      <td>0.356068</td>\n",
       "    </tr>\n",
       "    <tr>\n",
       "      <th>device_protection</th>\n",
       "      <td>0.037732</td>\n",
       "      <td>0.147650</td>\n",
       "      <td>0.008807</td>\n",
       "      <td>0.360221</td>\n",
       "      <td>-0.061009</td>\n",
       "      <td>0.277584</td>\n",
       "      <td>0.290100</td>\n",
       "      <td>1.000000</td>\n",
       "      <td>0.318955</td>\n",
       "      <td>0.394048</td>\n",
       "      <td>0.403725</td>\n",
       "      <td>0.102861</td>\n",
       "      <td>0.491649</td>\n",
       "      <td>-0.067517</td>\n",
       "      <td>0.127781</td>\n",
       "      <td>0.205818</td>\n",
       "      <td>-0.377433</td>\n",
       "      <td>0.224646</td>\n",
       "      <td>0.003877</td>\n",
       "      <td>0.360258</td>\n",
       "    </tr>\n",
       "    <tr>\n",
       "      <th>tech_support</th>\n",
       "      <td>-0.049123</td>\n",
       "      <td>0.121001</td>\n",
       "      <td>0.071767</td>\n",
       "      <td>0.317838</td>\n",
       "      <td>-0.082523</td>\n",
       "      <td>0.352969</td>\n",
       "      <td>0.270554</td>\n",
       "      <td>0.318955</td>\n",
       "      <td>1.000000</td>\n",
       "      <td>0.266926</td>\n",
       "      <td>0.279597</td>\n",
       "      <td>0.022336</td>\n",
       "      <td>0.335921</td>\n",
       "      <td>-0.168587</td>\n",
       "      <td>0.041248</td>\n",
       "      <td>-0.014193</td>\n",
       "      <td>-0.333622</td>\n",
       "      <td>0.293276</td>\n",
       "      <td>0.004923</td>\n",
       "      <td>0.317879</td>\n",
       "    </tr>\n",
       "    <tr>\n",
       "      <th>streaming_tv</th>\n",
       "      <td>0.097215</td>\n",
       "      <td>0.119148</td>\n",
       "      <td>-0.015290</td>\n",
       "      <td>0.284566</td>\n",
       "      <td>-0.011405</td>\n",
       "      <td>0.189083</td>\n",
       "      <td>0.272109</td>\n",
       "      <td>0.394048</td>\n",
       "      <td>0.266926</td>\n",
       "      <td>1.000000</td>\n",
       "      <td>0.526083</td>\n",
       "      <td>0.231099</td>\n",
       "      <td>0.634029</td>\n",
       "      <td>0.067324</td>\n",
       "      <td>0.198483</td>\n",
       "      <td>0.346463</td>\n",
       "      <td>-0.414107</td>\n",
       "      <td>0.102020</td>\n",
       "      <td>0.016718</td>\n",
       "      <td>0.284579</td>\n",
       "    </tr>\n",
       "    <tr>\n",
       "      <th>streaming_movies</th>\n",
       "      <td>0.134632</td>\n",
       "      <td>0.105612</td>\n",
       "      <td>-0.047735</td>\n",
       "      <td>0.287765</td>\n",
       "      <td>-0.039768</td>\n",
       "      <td>0.189208</td>\n",
       "      <td>0.269093</td>\n",
       "      <td>0.403725</td>\n",
       "      <td>0.279597</td>\n",
       "      <td>0.526083</td>\n",
       "      <td>1.000000</td>\n",
       "      <td>0.199733</td>\n",
       "      <td>0.626948</td>\n",
       "      <td>0.057048</td>\n",
       "      <td>0.173685</td>\n",
       "      <td>0.336546</td>\n",
       "      <td>-0.421274</td>\n",
       "      <td>0.109958</td>\n",
       "      <td>0.010283</td>\n",
       "      <td>0.287786</td>\n",
       "    </tr>\n",
       "    <tr>\n",
       "      <th>paperless_billing</th>\n",
       "      <td>0.159859</td>\n",
       "      <td>-0.013207</td>\n",
       "      <td>-0.121093</td>\n",
       "      <td>0.007571</td>\n",
       "      <td>0.015999</td>\n",
       "      <td>-0.006170</td>\n",
       "      <td>0.125131</td>\n",
       "      <td>0.102861</td>\n",
       "      <td>0.022336</td>\n",
       "      <td>0.231099</td>\n",
       "      <td>0.199733</td>\n",
       "      <td>1.000000</td>\n",
       "      <td>0.350013</td>\n",
       "      <td>0.190913</td>\n",
       "      <td>0.137245</td>\n",
       "      <td>0.332158</td>\n",
       "      <td>-0.318826</td>\n",
       "      <td>-0.185017</td>\n",
       "      <td>0.011831</td>\n",
       "      <td>0.007556</td>\n",
       "    </tr>\n",
       "    <tr>\n",
       "      <th>monthly_charges</th>\n",
       "      <td>0.220500</td>\n",
       "      <td>0.094952</td>\n",
       "      <td>-0.110928</td>\n",
       "      <td>0.256249</td>\n",
       "      <td>0.247370</td>\n",
       "      <td>0.310338</td>\n",
       "      <td>0.435075</td>\n",
       "      <td>0.491649</td>\n",
       "      <td>0.335921</td>\n",
       "      <td>0.634029</td>\n",
       "      <td>0.626948</td>\n",
       "      <td>0.350013</td>\n",
       "      <td>1.000000</td>\n",
       "      <td>0.192753</td>\n",
       "      <td>0.491850</td>\n",
       "      <td>0.795372</td>\n",
       "      <td>-0.763012</td>\n",
       "      <td>-0.065706</td>\n",
       "      <td>0.001387</td>\n",
       "      <td>0.256280</td>\n",
       "    </tr>\n",
       "    <tr>\n",
       "      <th>churn</th>\n",
       "      <td>0.164965</td>\n",
       "      <td>-0.122998</td>\n",
       "      <td>-0.163093</td>\n",
       "      <td>-0.340436</td>\n",
       "      <td>0.003827</td>\n",
       "      <td>-0.153262</td>\n",
       "      <td>-0.073574</td>\n",
       "      <td>-0.067517</td>\n",
       "      <td>-0.168587</td>\n",
       "      <td>0.067324</td>\n",
       "      <td>0.057048</td>\n",
       "      <td>0.190913</td>\n",
       "      <td>0.192753</td>\n",
       "      <td>1.000000</td>\n",
       "      <td>0.027512</td>\n",
       "      <td>0.303773</td>\n",
       "      <td>-0.233320</td>\n",
       "      <td>-0.387919</td>\n",
       "      <td>-0.015909</td>\n",
       "      <td>-0.340501</td>\n",
       "    </tr>\n",
       "    <tr>\n",
       "      <th>phone_lines</th>\n",
       "      <td>0.089084</td>\n",
       "      <td>0.104288</td>\n",
       "      <td>-0.005204</td>\n",
       "      <td>0.249331</td>\n",
       "      <td>0.670973</td>\n",
       "      <td>0.042289</td>\n",
       "      <td>0.136527</td>\n",
       "      <td>0.127781</td>\n",
       "      <td>0.041248</td>\n",
       "      <td>0.198483</td>\n",
       "      <td>0.173685</td>\n",
       "      <td>0.137245</td>\n",
       "      <td>0.491850</td>\n",
       "      <td>0.027512</td>\n",
       "      <td>1.000000</td>\n",
       "      <td>0.420464</td>\n",
       "      <td>-0.084382</td>\n",
       "      <td>0.079763</td>\n",
       "      <td>-0.007742</td>\n",
       "      <td>0.249391</td>\n",
       "    </tr>\n",
       "    <tr>\n",
       "      <th>fiber</th>\n",
       "      <td>0.261095</td>\n",
       "      <td>0.011725</td>\n",
       "      <td>-0.158968</td>\n",
       "      <td>0.041315</td>\n",
       "      <td>0.287712</td>\n",
       "      <td>-0.005694</td>\n",
       "      <td>0.167882</td>\n",
       "      <td>0.205818</td>\n",
       "      <td>-0.014193</td>\n",
       "      <td>0.346463</td>\n",
       "      <td>0.336546</td>\n",
       "      <td>0.332158</td>\n",
       "      <td>0.795372</td>\n",
       "      <td>0.303773</td>\n",
       "      <td>0.420464</td>\n",
       "      <td>1.000000</td>\n",
       "      <td>-0.471159</td>\n",
       "      <td>-0.233963</td>\n",
       "      <td>-0.003993</td>\n",
       "      <td>0.041320</td>\n",
       "    </tr>\n",
       "    <tr>\n",
       "      <th>no_internet</th>\n",
       "      <td>-0.188338</td>\n",
       "      <td>-0.000164</td>\n",
       "      <td>0.142754</td>\n",
       "      <td>-0.050610</td>\n",
       "      <td>0.171100</td>\n",
       "      <td>-0.337159</td>\n",
       "      <td>-0.376576</td>\n",
       "      <td>-0.377433</td>\n",
       "      <td>-0.333622</td>\n",
       "      <td>-0.414107</td>\n",
       "      <td>-0.421274</td>\n",
       "      <td>-0.318826</td>\n",
       "      <td>-0.763012</td>\n",
       "      <td>-0.233320</td>\n",
       "      <td>-0.084382</td>\n",
       "      <td>-0.471159</td>\n",
       "      <td>1.000000</td>\n",
       "      <td>0.235622</td>\n",
       "      <td>0.004081</td>\n",
       "      <td>-0.050600</td>\n",
       "    </tr>\n",
       "    <tr>\n",
       "      <th>contract</th>\n",
       "      <td>-0.147086</td>\n",
       "      <td>0.275681</td>\n",
       "      <td>0.238688</td>\n",
       "      <td>0.659006</td>\n",
       "      <td>-0.001843</td>\n",
       "      <td>0.242924</td>\n",
       "      <td>0.152006</td>\n",
       "      <td>0.224646</td>\n",
       "      <td>0.293276</td>\n",
       "      <td>0.102020</td>\n",
       "      <td>0.109958</td>\n",
       "      <td>-0.185017</td>\n",
       "      <td>-0.065706</td>\n",
       "      <td>-0.387919</td>\n",
       "      <td>0.079763</td>\n",
       "      <td>-0.233963</td>\n",
       "      <td>0.235622</td>\n",
       "      <td>1.000000</td>\n",
       "      <td>0.014491</td>\n",
       "      <td>0.659041</td>\n",
       "    </tr>\n",
       "    <tr>\n",
       "      <th>is_female</th>\n",
       "      <td>-0.021800</td>\n",
       "      <td>0.015688</td>\n",
       "      <td>0.010037</td>\n",
       "      <td>0.006889</td>\n",
       "      <td>-0.008889</td>\n",
       "      <td>0.018824</td>\n",
       "      <td>0.010339</td>\n",
       "      <td>0.003877</td>\n",
       "      <td>0.004923</td>\n",
       "      <td>0.016718</td>\n",
       "      <td>0.010283</td>\n",
       "      <td>0.011831</td>\n",
       "      <td>0.001387</td>\n",
       "      <td>-0.015909</td>\n",
       "      <td>-0.007742</td>\n",
       "      <td>-0.003993</td>\n",
       "      <td>0.004081</td>\n",
       "      <td>0.014491</td>\n",
       "      <td>1.000000</td>\n",
       "      <td>0.006902</td>\n",
       "    </tr>\n",
       "    <tr>\n",
       "      <th>tenure_years</th>\n",
       "      <td>0.016700</td>\n",
       "      <td>0.360863</td>\n",
       "      <td>0.153251</td>\n",
       "      <td>0.999999</td>\n",
       "      <td>-0.001344</td>\n",
       "      <td>0.325497</td>\n",
       "      <td>0.356068</td>\n",
       "      <td>0.360258</td>\n",
       "      <td>0.317879</td>\n",
       "      <td>0.284579</td>\n",
       "      <td>0.287786</td>\n",
       "      <td>0.007556</td>\n",
       "      <td>0.256280</td>\n",
       "      <td>-0.340501</td>\n",
       "      <td>0.249391</td>\n",
       "      <td>0.041320</td>\n",
       "      <td>-0.050600</td>\n",
       "      <td>0.659041</td>\n",
       "      <td>0.006902</td>\n",
       "      <td>1.000000</td>\n",
       "    </tr>\n",
       "  </tbody>\n",
       "</table>\n",
       "</div>"
      ],
      "text/plain": [
       "                   senior_citizen   partner  dependents    tenure  \\\n",
       "senior_citizen           1.000000  0.017445   -0.211666  0.016671   \n",
       "partner                  0.017445  1.000000    0.444366  0.360852   \n",
       "dependents              -0.211666  0.444366    1.000000  0.153251   \n",
       "tenure                   0.016671  0.360852    0.153251  1.000000   \n",
       "phone_service           -0.003200  0.012406    0.000441 -0.001410   \n",
       "online_security         -0.028823  0.138088    0.071248  0.325468   \n",
       "online_backup            0.072176  0.139104    0.033586  0.356042   \n",
       "device_protection        0.037732  0.147650    0.008807  0.360221   \n",
       "tech_support            -0.049123  0.121001    0.071767  0.317838   \n",
       "streaming_tv             0.097215  0.119148   -0.015290  0.284566   \n",
       "streaming_movies         0.134632  0.105612   -0.047735  0.287765   \n",
       "paperless_billing        0.159859 -0.013207   -0.121093  0.007571   \n",
       "monthly_charges          0.220500  0.094952   -0.110928  0.256249   \n",
       "churn                    0.164965 -0.122998   -0.163093 -0.340436   \n",
       "phone_lines              0.089084  0.104288   -0.005204  0.249331   \n",
       "fiber                    0.261095  0.011725   -0.158968  0.041315   \n",
       "no_internet             -0.188338 -0.000164    0.142754 -0.050610   \n",
       "contract                -0.147086  0.275681    0.238688  0.659006   \n",
       "is_female               -0.021800  0.015688    0.010037  0.006889   \n",
       "tenure_years             0.016700  0.360863    0.153251  0.999999   \n",
       "\n",
       "                   phone_service  online_security  online_backup  \\\n",
       "senior_citizen         -0.003200        -0.028823       0.072176   \n",
       "partner                 0.012406         0.138088       0.139104   \n",
       "dependents              0.000441         0.071248       0.033586   \n",
       "tenure                 -0.001410         0.325468       0.356042   \n",
       "phone_service           1.000000        -0.088639      -0.043403   \n",
       "online_security        -0.088639         1.000000       0.280343   \n",
       "online_backup          -0.043403         0.280343       1.000000   \n",
       "device_protection      -0.061009         0.277584       0.290100   \n",
       "tech_support           -0.082523         0.352969       0.270554   \n",
       "streaming_tv           -0.011405         0.189083       0.272109   \n",
       "streaming_movies       -0.039768         0.189208       0.269093   \n",
       "paperless_billing       0.015999        -0.006170       0.125131   \n",
       "monthly_charges         0.247370         0.310338       0.435075   \n",
       "churn                   0.003827        -0.153262      -0.073574   \n",
       "phone_lines             0.670973         0.042289       0.136527   \n",
       "fiber                   0.287712        -0.005694       0.167882   \n",
       "no_internet             0.171100        -0.337159      -0.376576   \n",
       "contract               -0.001843         0.242924       0.152006   \n",
       "is_female              -0.008889         0.018824       0.010339   \n",
       "tenure_years           -0.001344         0.325497       0.356068   \n",
       "\n",
       "                   device_protection  tech_support  streaming_tv  \\\n",
       "senior_citizen              0.037732     -0.049123      0.097215   \n",
       "partner                     0.147650      0.121001      0.119148   \n",
       "dependents                  0.008807      0.071767     -0.015290   \n",
       "tenure                      0.360221      0.317838      0.284566   \n",
       "phone_service              -0.061009     -0.082523     -0.011405   \n",
       "online_security             0.277584      0.352969      0.189083   \n",
       "online_backup               0.290100      0.270554      0.272109   \n",
       "device_protection           1.000000      0.318955      0.394048   \n",
       "tech_support                0.318955      1.000000      0.266926   \n",
       "streaming_tv                0.394048      0.266926      1.000000   \n",
       "streaming_movies            0.403725      0.279597      0.526083   \n",
       "paperless_billing           0.102861      0.022336      0.231099   \n",
       "monthly_charges             0.491649      0.335921      0.634029   \n",
       "churn                      -0.067517     -0.168587      0.067324   \n",
       "phone_lines                 0.127781      0.041248      0.198483   \n",
       "fiber                       0.205818     -0.014193      0.346463   \n",
       "no_internet                -0.377433     -0.333622     -0.414107   \n",
       "contract                    0.224646      0.293276      0.102020   \n",
       "is_female                   0.003877      0.004923      0.016718   \n",
       "tenure_years                0.360258      0.317879      0.284579   \n",
       "\n",
       "                   streaming_movies  paperless_billing  monthly_charges  \\\n",
       "senior_citizen             0.134632           0.159859         0.220500   \n",
       "partner                    0.105612          -0.013207         0.094952   \n",
       "dependents                -0.047735          -0.121093        -0.110928   \n",
       "tenure                     0.287765           0.007571         0.256249   \n",
       "phone_service             -0.039768           0.015999         0.247370   \n",
       "online_security            0.189208          -0.006170         0.310338   \n",
       "online_backup              0.269093           0.125131         0.435075   \n",
       "device_protection          0.403725           0.102861         0.491649   \n",
       "tech_support               0.279597           0.022336         0.335921   \n",
       "streaming_tv               0.526083           0.231099         0.634029   \n",
       "streaming_movies           1.000000           0.199733         0.626948   \n",
       "paperless_billing          0.199733           1.000000         0.350013   \n",
       "monthly_charges            0.626948           0.350013         1.000000   \n",
       "churn                      0.057048           0.190913         0.192753   \n",
       "phone_lines                0.173685           0.137245         0.491850   \n",
       "fiber                      0.336546           0.332158         0.795372   \n",
       "no_internet               -0.421274          -0.318826        -0.763012   \n",
       "contract                   0.109958          -0.185017        -0.065706   \n",
       "is_female                  0.010283           0.011831         0.001387   \n",
       "tenure_years               0.287786           0.007556         0.256280   \n",
       "\n",
       "                      churn  phone_lines     fiber  no_internet  contract  \\\n",
       "senior_citizen     0.164965     0.089084  0.261095    -0.188338 -0.147086   \n",
       "partner           -0.122998     0.104288  0.011725    -0.000164  0.275681   \n",
       "dependents        -0.163093    -0.005204 -0.158968     0.142754  0.238688   \n",
       "tenure            -0.340436     0.249331  0.041315    -0.050610  0.659006   \n",
       "phone_service      0.003827     0.670973  0.287712     0.171100 -0.001843   \n",
       "online_security   -0.153262     0.042289 -0.005694    -0.337159  0.242924   \n",
       "online_backup     -0.073574     0.136527  0.167882    -0.376576  0.152006   \n",
       "device_protection -0.067517     0.127781  0.205818    -0.377433  0.224646   \n",
       "tech_support      -0.168587     0.041248 -0.014193    -0.333622  0.293276   \n",
       "streaming_tv       0.067324     0.198483  0.346463    -0.414107  0.102020   \n",
       "streaming_movies   0.057048     0.173685  0.336546    -0.421274  0.109958   \n",
       "paperless_billing  0.190913     0.137245  0.332158    -0.318826 -0.185017   \n",
       "monthly_charges    0.192753     0.491850  0.795372    -0.763012 -0.065706   \n",
       "churn              1.000000     0.027512  0.303773    -0.233320 -0.387919   \n",
       "phone_lines        0.027512     1.000000  0.420464    -0.084382  0.079763   \n",
       "fiber              0.303773     0.420464  1.000000    -0.471159 -0.233963   \n",
       "no_internet       -0.233320    -0.084382 -0.471159     1.000000  0.235622   \n",
       "contract          -0.387919     0.079763 -0.233963     0.235622  1.000000   \n",
       "is_female         -0.015909    -0.007742 -0.003993     0.004081  0.014491   \n",
       "tenure_years      -0.340501     0.249391  0.041320    -0.050600  0.659041   \n",
       "\n",
       "                   is_female  tenure_years  \n",
       "senior_citizen     -0.021800      0.016700  \n",
       "partner             0.015688      0.360863  \n",
       "dependents          0.010037      0.153251  \n",
       "tenure              0.006889      0.999999  \n",
       "phone_service      -0.008889     -0.001344  \n",
       "online_security     0.018824      0.325497  \n",
       "online_backup       0.010339      0.356068  \n",
       "device_protection   0.003877      0.360258  \n",
       "tech_support        0.004923      0.317879  \n",
       "streaming_tv        0.016718      0.284579  \n",
       "streaming_movies    0.010283      0.287786  \n",
       "paperless_billing   0.011831      0.007556  \n",
       "monthly_charges     0.001387      0.256280  \n",
       "churn              -0.015909     -0.340501  \n",
       "phone_lines        -0.007742      0.249391  \n",
       "fiber              -0.003993      0.041320  \n",
       "no_internet         0.004081     -0.050600  \n",
       "contract            0.014491      0.659041  \n",
       "is_female           1.000000      0.006902  \n",
       "tenure_years        0.006902      1.000000  "
      ]
     },
     "execution_count": 20,
     "metadata": {},
     "output_type": "execute_result"
    }
   ],
   "source": [
    "#features we are exploring\n",
    "X_train.corr()"
   ]
  },
  {
   "cell_type": "code",
   "execution_count": 21,
   "metadata": {},
   "outputs": [
    {
     "data": {
      "text/plain": [
       "no_internet     -0.376576\n",
       "churn           -0.073574\n",
       "phone_service   -0.043403\n",
       "is_female        0.010339\n",
       "dependents       0.033586\n",
       "Name: online_backup, dtype: float64"
      ]
     },
     "execution_count": 21,
     "metadata": {},
     "output_type": "execute_result"
    }
   ],
   "source": [
    "train.corr().iloc[6].sort_values()[0:5]"
   ]
  },
  {
   "cell_type": "markdown",
   "metadata": {},
   "source": [
    "## Hypothesis 1:  Does having fiber internet have any effect on customer churn?"
   ]
  },
  {
   "cell_type": "code",
   "execution_count": 22,
   "metadata": {},
   "outputs": [
    {
     "data": {
      "image/png": "[encoded data removed]",
      "text/plain": [
       "<Figure size 748.8x514.8 with 1 Axes>"
      ]
     },
     "metadata": {
      "needs_background": "light"
     },
     "output_type": "display_data"
    }
   ],
   "source": [
    "sns.barplot(x = 'contract', y = 'fiber', hue = 'churn', data = train)\n",
    "plt.show()"
   ]
  },
  {
   "cell_type": "markdown",
   "metadata": {},
   "source": [
    "- Ho:  Having fiber internet is independent of churn\n",
    "- Ha:  Having fiber internet is not independent of churn"
   ]
  },
  {
   "cell_type": "code",
   "execution_count": 23,
   "metadata": {},
   "outputs": [],
   "source": [
    "# set alpha and confidence interval before running any tests\n",
    "alpha = .05\n",
    "confidence_level = .95"
   ]
  },
  {
   "cell_type": "code",
   "execution_count": 24,
   "metadata": {},
   "outputs": [
    {
     "data": {
      "text/html": [
       "<div>\n",
       "<style scoped>\n",
       "    .dataframe tbody tr th:only-of-type {\n",
       "        vertical-align: middle;\n",
       "    }\n",
       "\n",
       "    .dataframe tbody tr th {\n",
       "        vertical-align: top;\n",
       "    }\n",
       "\n",
       "    .dataframe thead th {\n",
       "        text-align: right;\n",
       "    }\n",
       "</style>\n",
       "<table border=\"1\" class=\"dataframe\">\n",
       "  <thead>\n",
       "    <tr style=\"text-align: right;\">\n",
       "      <th>churn</th>\n",
       "      <th>0</th>\n",
       "      <th>1</th>\n",
       "    </tr>\n",
       "    <tr>\n",
       "      <th>fiber</th>\n",
       "      <th></th>\n",
       "      <th></th>\n",
       "    </tr>\n",
       "  </thead>\n",
       "  <tbody>\n",
       "    <tr>\n",
       "      <th>0</th>\n",
       "      <td>1879</td>\n",
       "      <td>321</td>\n",
       "    </tr>\n",
       "    <tr>\n",
       "      <th>1</th>\n",
       "      <td>1018</td>\n",
       "      <td>725</td>\n",
       "    </tr>\n",
       "  </tbody>\n",
       "</table>\n",
       "</div>"
      ],
      "text/plain": [
       "churn     0    1\n",
       "fiber           \n",
       "0      1879  321\n",
       "1      1018  725"
      ]
     },
     "execution_count": 24,
     "metadata": {},
     "output_type": "execute_result"
    }
   ],
   "source": [
    "#Crosstab:  find the overall proportions, we multiply all the combinations\n",
    "#of proportions together.  Now we have the expected proportions, we need\n",
    "#to calculate the actual proportions so that we can compare them.\n",
    "\n",
    "observed = pd.crosstab(train.fiber, train.churn)\n",
    "observed"
   ]
  },
  {
   "cell_type": "code",
   "execution_count": 25,
   "metadata": {},
   "outputs": [
    {
     "name": "stdout",
     "output_type": "stream",
     "text": [
      "Observed\n",
      "\n",
      "[[1879  321]\n",
      " [1018  725]]\n",
      "---------------------------------\n",
      "Expected\n",
      "\n",
      "[[1616.38346437  583.61653563]\n",
      " [1280.61653563  462.38346437]]\n",
      "---------------------------------\n",
      "\n",
      "chi^2 = 362.4674\n",
      "p     = 0.0000000000000000000000\n"
     ]
    }
   ],
   "source": [
    "chi2, p, degf, expected = stats.chi2_contingency(observed)\n",
    "\n",
    "print('Observed\\n')\n",
    "print(observed.values)\n",
    "print('---------------------------------\\nExpected\\n')\n",
    "print(expected)\n",
    "print('---------------------------------\\n')\n",
    "print(f'chi^2 = {chi2:.4f}')\n",
    "print(f'p     = {p:.22f}')"
   ]
  },
  {
   "cell_type": "markdown",
   "metadata": {},
   "source": [
    "### The pvalue is less than the alpha, so we reject our null hypothesis"
   ]
  },
  {
   "cell_type": "markdown",
   "metadata": {},
   "source": [
    "## Hypothesis 2:  Does tech support have any effect on customer churn?\n",
    "- Ho:  Having tech support does not effect churn\n",
    "- Ha:  Having tech support does effect churn"
   ]
  },
  {
   "cell_type": "code",
   "execution_count": 26,
   "metadata": {},
   "outputs": [],
   "source": [
    "# set alpha and confidence interval before running any tests\n",
    "alpha = .05\n",
    "confidence_level = .95"
   ]
  },
  {
   "cell_type": "code",
   "execution_count": 27,
   "metadata": {},
   "outputs": [
    {
     "data": {
      "text/html": [
       "<div>\n",
       "<style scoped>\n",
       "    .dataframe tbody tr th:only-of-type {\n",
       "        vertical-align: middle;\n",
       "    }\n",
       "\n",
       "    .dataframe tbody tr th {\n",
       "        vertical-align: top;\n",
       "    }\n",
       "\n",
       "    .dataframe thead th {\n",
       "        text-align: right;\n",
       "    }\n",
       "</style>\n",
       "<table border=\"1\" class=\"dataframe\">\n",
       "  <thead>\n",
       "    <tr style=\"text-align: right;\">\n",
       "      <th>churn</th>\n",
       "      <th>0</th>\n",
       "      <th>1</th>\n",
       "    </tr>\n",
       "    <tr>\n",
       "      <th>tech_support</th>\n",
       "      <th></th>\n",
       "      <th></th>\n",
       "    </tr>\n",
       "  </thead>\n",
       "  <tbody>\n",
       "    <tr>\n",
       "      <th>0</th>\n",
       "      <td>1941</td>\n",
       "      <td>881</td>\n",
       "    </tr>\n",
       "    <tr>\n",
       "      <th>1</th>\n",
       "      <td>956</td>\n",
       "      <td>165</td>\n",
       "    </tr>\n",
       "  </tbody>\n",
       "</table>\n",
       "</div>"
      ],
      "text/plain": [
       "churn            0    1\n",
       "tech_support           \n",
       "0             1941  881\n",
       "1              956  165"
      ]
     },
     "execution_count": 27,
     "metadata": {},
     "output_type": "execute_result"
    }
   ],
   "source": [
    "#Crosstab:  find the overall proportions, we multiply all the combinations\n",
    "#of proportions together.  Now we have the expected proportions, we need\n",
    "#to calculate the actual proportions so that we can compare them.\n",
    "\n",
    "observed = pd.crosstab(train.tech_support, train.churn)\n",
    "observed"
   ]
  },
  {
   "cell_type": "code",
   "execution_count": 28,
   "metadata": {},
   "outputs": [
    {
     "name": "stdout",
     "output_type": "stream",
     "text": [
      "Observed\n",
      "\n",
      "[[1941  881]\n",
      " [ 956  165]]\n",
      "---------------------------------\n",
      "Expected\n",
      "\n",
      "[[2073.37915293  748.62084707]\n",
      " [ 823.62084707  297.37915293]]\n",
      "---------------------------------\n",
      "\n",
      "chi^2 = 111.2218\n",
      "p     = 0.0000000000000000000000001\n"
     ]
    }
   ],
   "source": [
    "chi2, p, degf, expected = stats.chi2_contingency(observed)\n",
    "\n",
    "print('Observed\\n')\n",
    "print(observed.values)\n",
    "print('---------------------------------\\nExpected\\n')\n",
    "print(expected)\n",
    "print('---------------------------------\\n')\n",
    "print(f'chi^2 = {chi2:.4f}')\n",
    "print(f'p     = {p:.25f}')"
   ]
  },
  {
   "cell_type": "markdown",
   "metadata": {},
   "source": [
    "### The pvalue is less than the alpha, so we reject our null hypothesis"
   ]
  },
  {
   "cell_type": "code",
   "execution_count": null,
   "metadata": {},
   "outputs": [],
   "source": []
  },
  {
   "cell_type": "markdown",
   "metadata": {},
   "source": [
    "<div class=\"alert alert-block alert-success\"><b>Explore Key Takeaways:</b></div>"
   ]
  },
  {
   "cell_type": "markdown",
   "metadata": {},
   "source": [
    "# **Model**"
   ]
  },
  {
   "cell_type": "markdown",
   "metadata": {},
   "source": [
    "## Baseline\n",
    "- Our prediction for baseline is determined by taking the highest value count from churn"
   ]
  },
  {
   "cell_type": "code",
   "execution_count": 32,
   "metadata": {},
   "outputs": [
    {
     "data": {
      "text/plain": [
       "0    2897\n",
       "1    1046\n",
       "Name: churn, dtype: int64"
      ]
     },
     "execution_count": 32,
     "metadata": {},
     "output_type": "execute_result"
    }
   ],
   "source": [
    "#Value counts of churn\n",
    "train.churn.value_counts()"
   ]
  },
  {
   "cell_type": "code",
   "execution_count": 33,
   "metadata": {},
   "outputs": [],
   "source": [
    "#Train baseline prediction will be those that have not churned\n",
    "train['baseline_prediction'] = 0"
   ]
  },
  {
   "cell_type": "code",
   "execution_count": 34,
   "metadata": {},
   "outputs": [
    {
     "data": {
      "text/plain": [
       "73.5"
      ]
     },
     "execution_count": 34,
     "metadata": {},
     "output_type": "execute_result"
    }
   ],
   "source": [
    "#Baseline accuracy\n",
    "baseline_accuracy = round((train.churn == 0).mean(),3) *100\n",
    "baseline_accuracy"
   ]
  },
  {
   "cell_type": "markdown",
   "metadata": {},
   "source": [
    "<div class=\"alert alert-block alert-success\"><b>Model Key Takeaways:</b>\n",
    "<br>- Baseline Accuracy: 73.5% (the score we want to beat with our model)</div>"
   ]
  },
  {
   "cell_type": "markdown",
   "metadata": {},
   "source": [
    "## Model KNN"
   ]
  },
  {
   "cell_type": "code",
   "execution_count": 83,
   "metadata": {},
   "outputs": [
    {
     "data": {
      "text/plain": [
       "KNeighborsClassifier(n_neighbors=3)"
      ]
     },
     "execution_count": 83,
     "metadata": {},
     "output_type": "execute_result"
    }
   ],
   "source": [
    "#Features I want to train on\n",
    "features1 = ['fiber', 'tech_support']\n",
    "#make model\n",
    "#weights = ['uniform', 'density']\n",
    "knn = KNeighborsClassifier(n_neighbors=3, weights='uniform')\n",
    "#fit model\n",
    "knn.fit(X_train[features1], y_train)"
   ]
  },
  {
   "cell_type": "code",
   "execution_count": 86,
   "metadata": {},
   "outputs": [],
   "source": [
    "#mkae predictions\n",
    "y_pred_knn = knn.predict(X_train[features1])\n",
    "#estimate probability\n",
    "y_pred_proba = knn.predict_proba(X_train[features1])"
   ]
  },
  {
   "cell_type": "markdown",
   "metadata": {},
   "source": [
    "## Evaluate KNN"
   ]
  },
  {
   "cell_type": "code",
   "execution_count": 91,
   "metadata": {},
   "outputs": [
    {
     "name": "stdout",
     "output_type": "stream",
     "text": [
      "KNN Accuracy is 0.73472\n"
     ]
    }
   ],
   "source": [
    "#accuracy\n",
    "accuracy = knn.score(X_train[features1], y_train)\n",
    "print(f\"KNN Accuracy is {accuracy:.5}\")"
   ]
  },
  {
   "cell_type": "code",
   "execution_count": 88,
   "metadata": {},
   "outputs": [
    {
     "name": "stdout",
     "output_type": "stream",
     "text": [
      "[[2897    0]\n",
      " [1046    0]]\n"
     ]
    }
   ],
   "source": [
    "#confustion matrix\n",
    "print(confusion_matrix(y_train, y_pred_knn))"
   ]
  },
  {
   "cell_type": "code",
   "execution_count": 89,
   "metadata": {},
   "outputs": [
    {
     "name": "stdout",
     "output_type": "stream",
     "text": [
      "              precision    recall  f1-score   support\n",
      "\n",
      "           0       0.73      1.00      0.85      2897\n",
      "           1       0.00      0.00      0.00      1046\n",
      "\n",
      "    accuracy                           0.73      3943\n",
      "   macro avg       0.37      0.50      0.42      3943\n",
      "weighted avg       0.54      0.73      0.62      3943\n",
      "\n"
     ]
    }
   ],
   "source": [
    "#classification report\n",
    "#confustion matrix\n",
    "print(classification_report(y_train, y_pred_knn))"
   ]
  },
  {
   "cell_type": "markdown",
   "metadata": {},
   "source": [
    "## Validate KNN"
   ]
  },
  {
   "cell_type": "code",
   "execution_count": 98,
   "metadata": {},
   "outputs": [
    {
     "name": "stdout",
     "output_type": "stream",
     "text": [
      "Accuracy of KNN classifier on test set: 0.73\n"
     ]
    }
   ],
   "source": [
    "print('Accuracy of KNN classifier on test set: {:.2f}'\n",
    "     .format(knn.score(X_validate[features1], y_validate)))"
   ]
  },
  {
   "cell_type": "markdown",
   "metadata": {},
   "source": [
    "<div class=\"alert alert-block alert-success\"><b>KNN Key Takeaways:</b>\n",
    "<br>- Accuracy score of 73% does not beat baseline \n",
    "<br>- Try new model or change hyperparameters</div>"
   ]
  },
  {
   "cell_type": "markdown",
   "metadata": {},
   "source": [
    "## Model Logistic Regression"
   ]
  },
  {
   "cell_type": "code",
   "execution_count": 101,
   "metadata": {},
   "outputs": [
    {
     "data": {
      "text/plain": [
       "LogisticRegression(random_state=123)"
      ]
     },
     "execution_count": 101,
     "metadata": {},
     "output_type": "execute_result"
    }
   ],
   "source": [
    "# Create the logistic regression model from sklearn.linear_model import LogisticRegression\n",
    "logit = LogisticRegression(random_state=123) #Went with default hyperparameters\n",
    "\n",
    "# we will use same features \n",
    "features2 = ['fiber', 'tech_support']\n",
    "\n",
    "# Fit the model\n",
    "logit.fit(X_train[features], y_train)\n",
    "\n"
   ]
  },
  {
   "cell_type": "code",
   "execution_count": 102,
   "metadata": {},
   "outputs": [
    {
     "name": "stdout",
     "output_type": "stream",
     "text": [
      "Coefficient: \n",
      " [[ 1.45198162 -1.02102104]]\n",
      "Intercept: \n",
      " [-1.53642069]\n"
     ]
    }
   ],
   "source": [
    "# feature importance\n",
    "print('Coefficient: \\n', logit.coef_)\n",
    "print('Intercept: \\n', logit.intercept_)"
   ]
  },
  {
   "cell_type": "code",
   "execution_count": 103,
   "metadata": {},
   "outputs": [],
   "source": [
    "#Make predictions\n",
    "y_pred_lg = logit.predict(X_train[features2])\n",
    "\n",
    "#estimate probability\n",
    "y_pred_lg_proba = logit.predict_proba(X_train[features2])"
   ]
  },
  {
   "cell_type": "markdown",
   "metadata": {},
   "source": [
    "## Evaluate Logistic Regression"
   ]
  },
  {
   "cell_type": "code",
   "execution_count": 104,
   "metadata": {},
   "outputs": [
    {
     "name": "stdout",
     "output_type": "stream",
     "text": [
      "Accuracy of Logistic Regression classifier on training set: 0.73\n"
     ]
    }
   ],
   "source": [
    "print('Accuracy of Logistic Regression classifier on training set: {:.2f}'\n",
    "     .format(logit.score(X_train[features2], y_train)))"
   ]
  },
  {
   "cell_type": "code",
   "execution_count": 105,
   "metadata": {},
   "outputs": [
    {
     "name": "stdout",
     "output_type": "stream",
     "text": [
      "Baseline is 73.5\n",
      "Accuracy of Logistic Regression classifier on training set: 0.73\n"
     ]
    }
   ],
   "source": [
    "print(\"Baseline is\", baseline_accuracy,)\n",
    "print('Accuracy of Logistic Regression classifier on training set: {:.2f}'\n",
    "     .format(logit.score(X_train[features2], y_train)))"
   ]
  },
  {
   "cell_type": "code",
   "execution_count": 106,
   "metadata": {},
   "outputs": [
    {
     "name": "stdout",
     "output_type": "stream",
     "text": [
      "[[2897    0]\n",
      " [1046    0]]\n"
     ]
    }
   ],
   "source": [
    "#confusion matrix\n",
    "print(confusion_matrix(y_train, y_pred_lg))"
   ]
  },
  {
   "cell_type": "code",
   "execution_count": 107,
   "metadata": {},
   "outputs": [
    {
     "name": "stdout",
     "output_type": "stream",
     "text": [
      "              precision    recall  f1-score   support\n",
      "\n",
      "           0       0.73      1.00      0.85      2897\n",
      "           1       0.00      0.00      0.00      1046\n",
      "\n",
      "    accuracy                           0.73      3943\n",
      "   macro avg       0.37      0.50      0.42      3943\n",
      "weighted avg       0.54      0.73      0.62      3943\n",
      "\n"
     ]
    }
   ],
   "source": [
    "#classification report\n",
    "print(classification_report(y_train, y_pred_lg))"
   ]
  },
  {
   "cell_type": "markdown",
   "metadata": {},
   "source": [
    "## Validate Logistic Regression"
   ]
  },
  {
   "cell_type": "code",
   "execution_count": 109,
   "metadata": {},
   "outputs": [],
   "source": [
    "y_pred_lg = logit.predict(X_validate[features2])"
   ]
  },
  {
   "cell_type": "code",
   "execution_count": 111,
   "metadata": {},
   "outputs": [
    {
     "name": "stdout",
     "output_type": "stream",
     "text": [
      "Accuracy: 0.73\n"
     ]
    }
   ],
   "source": [
    "print('Accuracy: {:.2f}'.format(logit.score(X_validate[features2], y_validate)))"
   ]
  },
  {
   "cell_type": "markdown",
   "metadata": {},
   "source": [
    "<div class=\"alert alert-block alert-success\"><b>Logistic Regression Key Takeaways:</b>\n",
    "<br>- Accuracy score of 73% also fails to beat baseline \n",
    "<br>- Try new model or change hyperparameters</div>"
   ]
  },
  {
   "cell_type": "markdown",
   "metadata": {},
   "source": [
    "## Model Decision Tree"
   ]
  },
  {
   "cell_type": "code",
   "execution_count": 112,
   "metadata": {},
   "outputs": [],
   "source": [
    "#Create the Decision Tree object with desired hyper-parameters\n",
    "clf = DecisionTreeClassifier(max_depth=3, random_state=123)"
   ]
  },
  {
   "cell_type": "code",
   "execution_count": 113,
   "metadata": {},
   "outputs": [
    {
     "data": {
      "text/plain": [
       "DecisionTreeClassifier(max_depth=3, random_state=123)"
      ]
     },
     "execution_count": 113,
     "metadata": {},
     "output_type": "execute_result"
    }
   ],
   "source": [
    "#Fit the model\n",
    "clf = clf.fit(X_train, y_train)\n",
    "clf"
   ]
  },
  {
   "cell_type": "code",
   "execution_count": 47,
   "metadata": {},
   "outputs": [
    {
     "data": {
      "text/plain": [
       "'fiber_and tech_support_decision_tree.pdf'"
      ]
     },
     "execution_count": 47,
     "metadata": {},
     "output_type": "execute_result"
    }
   ],
   "source": [
    "#Graphviz: Visualize a Decision Tree\n",
    "dot_data = export_graphviz(clf, feature_names= X_train.columns,rounded=True, filled=True, out_file=None)\n",
    "graph = graphviz.Source(dot_data) \n",
    "\n",
    "graph.render('telco_churn_decision_tree', view=True, format=\"pdf\")\n",
    "\n"
   ]
  },
  {
   "cell_type": "code",
   "execution_count": 115,
   "metadata": {},
   "outputs": [
    {
     "data": {
      "text/plain": [
       "array([0, 0, 0, 0, 0])"
      ]
     },
     "execution_count": 115,
     "metadata": {},
     "output_type": "execute_result"
    }
   ],
   "source": [
    "#make predictions on observations\n",
    "y_pred_dt = clf.predict(X_train)\n",
    "y_pred_dt[0:5] "
   ]
  },
  {
   "cell_type": "code",
   "execution_count": 117,
   "metadata": {},
   "outputs": [
    {
     "data": {
      "text/plain": [
       "array([[0.98855508, 0.01144492],\n",
       "       [0.79514825, 0.20485175],\n",
       "       [0.94155844, 0.05844156],\n",
       "       ...,\n",
       "       [0.31391586, 0.68608414],\n",
       "       [0.94155844, 0.05844156],\n",
       "       [0.98855508, 0.01144492]])"
      ]
     },
     "execution_count": 117,
     "metadata": {},
     "output_type": "execute_result"
    }
   ],
   "source": [
    "#estimate probability of churn\n",
    "y_pred_proba_dt = clf.predict_proba(X_train)\n",
    "y_pred_proba_dt"
   ]
  },
  {
   "cell_type": "markdown",
   "metadata": {},
   "source": [
    "## Evaluate Decision Tree"
   ]
  },
  {
   "cell_type": "code",
   "execution_count": 118,
   "metadata": {},
   "outputs": [
    {
     "name": "stdout",
     "output_type": "stream",
     "text": [
      "Accuracy of Decision Tree classifier on training set: 0.79\n"
     ]
    }
   ],
   "source": [
    "#compute the accuracy \n",
    "\n",
    "print('Accuracy of Decision Tree classifier on training set: {:.2f}'\n",
    "      .format(clf.score(X_train, y_train)))"
   ]
  },
  {
   "cell_type": "code",
   "execution_count": 120,
   "metadata": {},
   "outputs": [
    {
     "data": {
      "text/plain": [
       "array([[2703,  194],\n",
       "       [ 622,  424]])"
      ]
     },
     "execution_count": 120,
     "metadata": {},
     "output_type": "execute_result"
    }
   ],
   "source": [
    "# confusion matrix\n",
    "confusion_matrix(y_train, y_pred_dt)"
   ]
  },
  {
   "cell_type": "code",
   "execution_count": 121,
   "metadata": {},
   "outputs": [
    {
     "data": {
      "text/plain": [
       "0    2897\n",
       "1    1046\n",
       "Name: churn, dtype: int64"
      ]
     },
     "execution_count": 121,
     "metadata": {},
     "output_type": "execute_result"
    }
   ],
   "source": [
    "y_train.value_counts()"
   ]
  },
  {
   "cell_type": "code",
   "execution_count": 122,
   "metadata": {},
   "outputs": [
    {
     "name": "stdout",
     "output_type": "stream",
     "text": [
      "              precision    recall  f1-score   support\n",
      "\n",
      "           0       0.81      0.93      0.87      2897\n",
      "           1       0.69      0.41      0.51      1046\n",
      "\n",
      "    accuracy                           0.79      3943\n",
      "   macro avg       0.75      0.67      0.69      3943\n",
      "weighted avg       0.78      0.79      0.77      3943\n",
      "\n"
     ]
    }
   ],
   "source": [
    "#classification report\n",
    "print(classification_report(y_train, y_pred_dt))"
   ]
  },
  {
   "cell_type": "code",
   "execution_count": 123,
   "metadata": {},
   "outputs": [
    {
     "name": "stdout",
     "output_type": "stream",
     "text": [
      "Accuracy of Decision Tree classifier on validate set: 0.78\n"
     ]
    }
   ],
   "source": [
    "print('Accuracy of Decision Tree classifier on validate set: {:.2f}'\n",
    "     .format(clf.score(X_validate, y_validate)))"
   ]
  },
  {
   "cell_type": "code",
   "execution_count": 124,
   "metadata": {},
   "outputs": [
    {
     "name": "stdout",
     "output_type": "stream",
     "text": [
      "              precision    recall  f1-score   support\n",
      "\n",
      "           0       0.81      0.92      0.86      1242\n",
      "           1       0.65      0.41      0.50       449\n",
      "\n",
      "    accuracy                           0.78      1691\n",
      "   macro avg       0.73      0.66      0.68      1691\n",
      "weighted avg       0.77      0.78      0.77      1691\n",
      "\n"
     ]
    }
   ],
   "source": [
    "# Produce y_predictions that come from the X_validate\n",
    "y_pred = clf.predict(X_validate)\n",
    "\n",
    "# Compare actual y values (from validate) to predicted y_values from the model run on X_validate\n",
    "print(classification_report(y_validate, y_pred))"
   ]
  },
  {
   "cell_type": "code",
   "execution_count": 127,
   "metadata": {},
   "outputs": [],
   "source": [
    "def get_metrics_binary(clf):\n",
    "    '''\n",
    "    get_metrics_binary takes in a confusion matrix (cnf) for a binary classifier and prints out metrics based on\n",
    "    values in variables named X_train, y_train, and y_pred.\n",
    "    \n",
    "    return: a classification report as a transposed DataFrame\n",
    "    '''\n",
    "    accuracy = clf.score(X_train, y_train)\n",
    "    class_report = pd.DataFrame(classification_report(y_train, y_pred_dt, output_dict=True)).T\n",
    "    conf = confusion_matrix(y_train, y_pred_dt)\n",
    "    tpr = conf[1][1] / conf[1].sum()\n",
    "    fpr = conf[0][1] / conf[0].sum()\n",
    "    tnr = conf[0][0] / conf[0].sum()\n",
    "    fnr = conf[1][0] / conf[1].sum()\n",
    "    print(f'''\n",
    "    The accuracy for our model is {accuracy:.4}\n",
    "    The True Positive Rate is {tpr:.3}, The False Positive Rate is {fpr:.3},\n",
    "    The True Negative Rate is {tnr:.3}, and the False Negative Rate is {fnr:.3}\n",
    "    ''')\n",
    "    return class_report"
   ]
  },
  {
   "cell_type": "code",
   "execution_count": 128,
   "metadata": {},
   "outputs": [
    {
     "name": "stdout",
     "output_type": "stream",
     "text": [
      "\n",
      "    The accuracy for our model is 0.7931\n",
      "    The True Positive Rate is 0.405, The False Positive Rate is 0.067,\n",
      "    The True Negative Rate is 0.933, and the False Negative Rate is 0.595\n",
      "    \n"
     ]
    }
   ],
   "source": [
    "report_df = get_metrics_binary(clf)"
   ]
  },
  {
   "cell_type": "code",
   "execution_count": 129,
   "metadata": {},
   "outputs": [
    {
     "data": {
      "text/html": [
       "<div>\n",
       "<style scoped>\n",
       "    .dataframe tbody tr th:only-of-type {\n",
       "        vertical-align: middle;\n",
       "    }\n",
       "\n",
       "    .dataframe tbody tr th {\n",
       "        vertical-align: top;\n",
       "    }\n",
       "\n",
       "    .dataframe thead th {\n",
       "        text-align: right;\n",
       "    }\n",
       "</style>\n",
       "<table border=\"1\" class=\"dataframe\">\n",
       "  <thead>\n",
       "    <tr style=\"text-align: right;\">\n",
       "      <th></th>\n",
       "      <th>precision</th>\n",
       "      <th>recall</th>\n",
       "      <th>f1-score</th>\n",
       "      <th>support</th>\n",
       "    </tr>\n",
       "  </thead>\n",
       "  <tbody>\n",
       "    <tr>\n",
       "      <th>0</th>\n",
       "      <td>0.812932</td>\n",
       "      <td>0.933034</td>\n",
       "      <td>0.868852</td>\n",
       "      <td>2897.000000</td>\n",
       "    </tr>\n",
       "    <tr>\n",
       "      <th>1</th>\n",
       "      <td>0.686084</td>\n",
       "      <td>0.405354</td>\n",
       "      <td>0.509615</td>\n",
       "      <td>1046.000000</td>\n",
       "    </tr>\n",
       "    <tr>\n",
       "      <th>accuracy</th>\n",
       "      <td>0.793051</td>\n",
       "      <td>0.793051</td>\n",
       "      <td>0.793051</td>\n",
       "      <td>0.793051</td>\n",
       "    </tr>\n",
       "    <tr>\n",
       "      <th>macro avg</th>\n",
       "      <td>0.749508</td>\n",
       "      <td>0.669194</td>\n",
       "      <td>0.689234</td>\n",
       "      <td>3943.000000</td>\n",
       "    </tr>\n",
       "    <tr>\n",
       "      <th>weighted avg</th>\n",
       "      <td>0.779282</td>\n",
       "      <td>0.793051</td>\n",
       "      <td>0.773554</td>\n",
       "      <td>3943.000000</td>\n",
       "    </tr>\n",
       "  </tbody>\n",
       "</table>\n",
       "</div>"
      ],
      "text/plain": [
       "              precision    recall  f1-score      support\n",
       "0              0.812932  0.933034  0.868852  2897.000000\n",
       "1              0.686084  0.405354  0.509615  1046.000000\n",
       "accuracy       0.793051  0.793051  0.793051     0.793051\n",
       "macro avg      0.749508  0.669194  0.689234  3943.000000\n",
       "weighted avg   0.779282  0.793051  0.773554  3943.000000"
      ]
     },
     "execution_count": 129,
     "metadata": {},
     "output_type": "execute_result"
    }
   ],
   "source": [
    "report_df"
   ]
  },
  {
   "cell_type": "markdown",
   "metadata": {},
   "source": [
    "<div class=\"alert alert-block alert-success\"><b>Decision Tree Key Takeaways:</b>\n",
    "<br>- Decision Tree model with a depth of 3 has an accuracy of 79%, beating the model\n",
    "<br>- </div>"
   ]
  },
  {
   "cell_type": "markdown",
   "metadata": {},
   "source": [
    "# Conclusion"
   ]
  },
  {
   "cell_type": "markdown",
   "metadata": {},
   "source": [
    "<div class=\"alert alert-block alert-success\"><b>Key Takeaways:</b>\n",
    "<br>- There are several drivers of churn\n",
    "<br>- Decision Tree Model with two features performed the best\n",
    "<br>- </div>"
   ]
  },
  {
   "cell_type": "markdown",
   "metadata": {},
   "source": [
    "# Next Steps"
   ]
  },
  {
   "cell_type": "markdown",
   "metadata": {},
   "source": [
    "<div class=\"alert alert-block alert-success\"><b>Investigate:</b>\n",
    "<br>- add more features to differnt models to see how they perform\n",
    "</div>"
   ]
  },
  {
   "cell_type": "markdown",
   "metadata": {},
   "source": [
    "# csv file"
   ]
  },
  {
   "cell_type": "code",
   "execution_count": 53,
   "metadata": {},
   "outputs": [
    {
     "name": "stdout",
     "output_type": "stream",
     "text": [
      "['senior_citizen', 'partner', 'dependents', 'tenure', 'phone_service', 'online_security', 'online_backup', 'device_protection', 'tech_support', 'streaming_tv', 'streaming_movies', 'paperless_billing', 'monthly_charges', 'total_charges', 'churn', 'phone_lines', 'fiber', 'no_internet', 'contract', 'is_female', 'tenure_years']\n"
     ]
    }
   ],
   "source": [
    "print(df.columns.to_list())"
   ]
  },
  {
   "cell_type": "code",
   "execution_count": 56,
   "metadata": {},
   "outputs": [],
   "source": [
    "X = df[['senior_citizen', 'partner', 'dependents', 'tenure', 'phone_service', 'online_security', 'online_backup', 'device_protection', 'tech_support', 'streaming_tv', 'streaming_movies', 'paperless_billing', 'monthly_charges', 'total_charges', 'phone_lines', 'fiber', 'no_internet', 'contract', 'is_female', 'tenure_years']]"
   ]
  },
  {
   "cell_type": "code",
   "execution_count": 57,
   "metadata": {},
   "outputs": [],
   "source": [
    "df['prediction'] = clf.predict(X)"
   ]
  },
  {
   "cell_type": "code",
   "execution_count": 58,
   "metadata": {},
   "outputs": [
    {
     "data": {
      "text/html": [
       "<div>\n",
       "<style scoped>\n",
       "    .dataframe tbody tr th:only-of-type {\n",
       "        vertical-align: middle;\n",
       "    }\n",
       "\n",
       "    .dataframe tbody tr th {\n",
       "        vertical-align: top;\n",
       "    }\n",
       "\n",
       "    .dataframe thead th {\n",
       "        text-align: right;\n",
       "    }\n",
       "</style>\n",
       "<table border=\"1\" class=\"dataframe\">\n",
       "  <thead>\n",
       "    <tr style=\"text-align: right;\">\n",
       "      <th></th>\n",
       "      <th>senior_citizen</th>\n",
       "      <th>partner</th>\n",
       "      <th>dependents</th>\n",
       "      <th>tenure</th>\n",
       "      <th>phone_service</th>\n",
       "      <th>online_security</th>\n",
       "      <th>online_backup</th>\n",
       "      <th>device_protection</th>\n",
       "      <th>tech_support</th>\n",
       "      <th>streaming_tv</th>\n",
       "      <th>...</th>\n",
       "      <th>monthly_charges</th>\n",
       "      <th>total_charges</th>\n",
       "      <th>churn</th>\n",
       "      <th>phone_lines</th>\n",
       "      <th>fiber</th>\n",
       "      <th>no_internet</th>\n",
       "      <th>contract</th>\n",
       "      <th>is_female</th>\n",
       "      <th>tenure_years</th>\n",
       "      <th>prediction</th>\n",
       "    </tr>\n",
       "    <tr>\n",
       "      <th>customer_id</th>\n",
       "      <th></th>\n",
       "      <th></th>\n",
       "      <th></th>\n",
       "      <th></th>\n",
       "      <th></th>\n",
       "      <th></th>\n",
       "      <th></th>\n",
       "      <th></th>\n",
       "      <th></th>\n",
       "      <th></th>\n",
       "      <th></th>\n",
       "      <th></th>\n",
       "      <th></th>\n",
       "      <th></th>\n",
       "      <th></th>\n",
       "      <th></th>\n",
       "      <th></th>\n",
       "      <th></th>\n",
       "      <th></th>\n",
       "      <th></th>\n",
       "      <th></th>\n",
       "    </tr>\n",
       "  </thead>\n",
       "  <tbody>\n",
       "    <tr>\n",
       "      <th>0003-MKNFE</th>\n",
       "      <td>0</td>\n",
       "      <td>0</td>\n",
       "      <td>0</td>\n",
       "      <td>9</td>\n",
       "      <td>1</td>\n",
       "      <td>0</td>\n",
       "      <td>0</td>\n",
       "      <td>0</td>\n",
       "      <td>0</td>\n",
       "      <td>0</td>\n",
       "      <td>...</td>\n",
       "      <td>59.9</td>\n",
       "      <td>542.4</td>\n",
       "      <td>0</td>\n",
       "      <td>2</td>\n",
       "      <td>0</td>\n",
       "      <td>0</td>\n",
       "      <td>0</td>\n",
       "      <td>0</td>\n",
       "      <td>0.75</td>\n",
       "      <td>0</td>\n",
       "    </tr>\n",
       "    <tr>\n",
       "      <th>0013-MHZWF</th>\n",
       "      <td>0</td>\n",
       "      <td>0</td>\n",
       "      <td>1</td>\n",
       "      <td>9</td>\n",
       "      <td>1</td>\n",
       "      <td>0</td>\n",
       "      <td>0</td>\n",
       "      <td>0</td>\n",
       "      <td>1</td>\n",
       "      <td>1</td>\n",
       "      <td>...</td>\n",
       "      <td>69.4</td>\n",
       "      <td>571.45</td>\n",
       "      <td>0</td>\n",
       "      <td>1</td>\n",
       "      <td>0</td>\n",
       "      <td>0</td>\n",
       "      <td>0</td>\n",
       "      <td>1</td>\n",
       "      <td>0.75</td>\n",
       "      <td>0</td>\n",
       "    </tr>\n",
       "    <tr>\n",
       "      <th>0015-UOCOJ</th>\n",
       "      <td>1</td>\n",
       "      <td>0</td>\n",
       "      <td>0</td>\n",
       "      <td>7</td>\n",
       "      <td>1</td>\n",
       "      <td>1</td>\n",
       "      <td>0</td>\n",
       "      <td>0</td>\n",
       "      <td>0</td>\n",
       "      <td>0</td>\n",
       "      <td>...</td>\n",
       "      <td>48.2</td>\n",
       "      <td>340.35</td>\n",
       "      <td>0</td>\n",
       "      <td>1</td>\n",
       "      <td>0</td>\n",
       "      <td>0</td>\n",
       "      <td>0</td>\n",
       "      <td>1</td>\n",
       "      <td>0.58</td>\n",
       "      <td>0</td>\n",
       "    </tr>\n",
       "    <tr>\n",
       "      <th>0023-HGHWL</th>\n",
       "      <td>1</td>\n",
       "      <td>0</td>\n",
       "      <td>0</td>\n",
       "      <td>1</td>\n",
       "      <td>0</td>\n",
       "      <td>0</td>\n",
       "      <td>0</td>\n",
       "      <td>0</td>\n",
       "      <td>0</td>\n",
       "      <td>0</td>\n",
       "      <td>...</td>\n",
       "      <td>25.1</td>\n",
       "      <td>25.1</td>\n",
       "      <td>1</td>\n",
       "      <td>0</td>\n",
       "      <td>0</td>\n",
       "      <td>0</td>\n",
       "      <td>0</td>\n",
       "      <td>0</td>\n",
       "      <td>0.08</td>\n",
       "      <td>0</td>\n",
       "    </tr>\n",
       "    <tr>\n",
       "      <th>0032-PGELS</th>\n",
       "      <td>0</td>\n",
       "      <td>1</td>\n",
       "      <td>1</td>\n",
       "      <td>1</td>\n",
       "      <td>0</td>\n",
       "      <td>1</td>\n",
       "      <td>0</td>\n",
       "      <td>0</td>\n",
       "      <td>0</td>\n",
       "      <td>0</td>\n",
       "      <td>...</td>\n",
       "      <td>30.5</td>\n",
       "      <td>30.5</td>\n",
       "      <td>1</td>\n",
       "      <td>0</td>\n",
       "      <td>0</td>\n",
       "      <td>0</td>\n",
       "      <td>0</td>\n",
       "      <td>1</td>\n",
       "      <td>0.08</td>\n",
       "      <td>0</td>\n",
       "    </tr>\n",
       "  </tbody>\n",
       "</table>\n",
       "<p>5 rows × 22 columns</p>\n",
       "</div>"
      ],
      "text/plain": [
       "             senior_citizen  partner  dependents  tenure  phone_service  \\\n",
       "customer_id                                                               \n",
       "0003-MKNFE                0        0           0       9              1   \n",
       "0013-MHZWF                0        0           1       9              1   \n",
       "0015-UOCOJ                1        0           0       7              1   \n",
       "0023-HGHWL                1        0           0       1              0   \n",
       "0032-PGELS                0        1           1       1              0   \n",
       "\n",
       "             online_security  online_backup  device_protection  tech_support  \\\n",
       "customer_id                                                                    \n",
       "0003-MKNFE                 0              0                  0             0   \n",
       "0013-MHZWF                 0              0                  0             1   \n",
       "0015-UOCOJ                 1              0                  0             0   \n",
       "0023-HGHWL                 0              0                  0             0   \n",
       "0032-PGELS                 1              0                  0             0   \n",
       "\n",
       "             streaming_tv  ...  monthly_charges  total_charges  churn  \\\n",
       "customer_id                ...                                          \n",
       "0003-MKNFE              0  ...             59.9          542.4      0   \n",
       "0013-MHZWF              1  ...             69.4         571.45      0   \n",
       "0015-UOCOJ              0  ...             48.2         340.35      0   \n",
       "0023-HGHWL              0  ...             25.1           25.1      1   \n",
       "0032-PGELS              0  ...             30.5           30.5      1   \n",
       "\n",
       "            phone_lines  fiber  no_internet  contract  is_female  \\\n",
       "customer_id                                                        \n",
       "0003-MKNFE            2      0            0         0          0   \n",
       "0013-MHZWF            1      0            0         0          1   \n",
       "0015-UOCOJ            1      0            0         0          1   \n",
       "0023-HGHWL            0      0            0         0          0   \n",
       "0032-PGELS            0      0            0         0          1   \n",
       "\n",
       "             tenure_years  prediction  \n",
       "customer_id                            \n",
       "0003-MKNFE           0.75           0  \n",
       "0013-MHZWF           0.75           0  \n",
       "0015-UOCOJ           0.58           0  \n",
       "0023-HGHWL           0.08           0  \n",
       "0032-PGELS           0.08           0  \n",
       "\n",
       "[5 rows x 22 columns]"
      ]
     },
     "execution_count": 58,
     "metadata": {},
     "output_type": "execute_result"
    }
   ],
   "source": [
    "df.head()"
   ]
  },
  {
   "cell_type": "code",
   "execution_count": 60,
   "metadata": {},
   "outputs": [],
   "source": [
    "pred = df.drop(columns=['senior_citizen', 'partner', 'dependents', 'tenure', 'phone_service', 'online_security', 'online_backup', 'device_protection', 'tech_support', 'streaming_tv', 'streaming_movies', 'paperless_billing', 'monthly_charges', 'total_charges', 'churn', 'phone_lines', 'fiber', 'no_internet', 'contract', 'is_female', 'tenure_years'])"
   ]
  },
  {
   "cell_type": "code",
   "execution_count": 66,
   "metadata": {},
   "outputs": [
    {
     "data": {
      "text/html": [
       "<div>\n",
       "<style scoped>\n",
       "    .dataframe tbody tr th:only-of-type {\n",
       "        vertical-align: middle;\n",
       "    }\n",
       "\n",
       "    .dataframe tbody tr th {\n",
       "        vertical-align: top;\n",
       "    }\n",
       "\n",
       "    .dataframe thead th {\n",
       "        text-align: right;\n",
       "    }\n",
       "</style>\n",
       "<table border=\"1\" class=\"dataframe\">\n",
       "  <thead>\n",
       "    <tr style=\"text-align: right;\">\n",
       "      <th></th>\n",
       "      <th>prediction</th>\n",
       "    </tr>\n",
       "    <tr>\n",
       "      <th>customer_id</th>\n",
       "      <th></th>\n",
       "    </tr>\n",
       "  </thead>\n",
       "  <tbody>\n",
       "    <tr>\n",
       "      <th>9950-MTGYX</th>\n",
       "      <td>0</td>\n",
       "    </tr>\n",
       "    <tr>\n",
       "      <th>9953-ZMKSM</th>\n",
       "      <td>0</td>\n",
       "    </tr>\n",
       "    <tr>\n",
       "      <th>9964-WBQDJ</th>\n",
       "      <td>0</td>\n",
       "    </tr>\n",
       "    <tr>\n",
       "      <th>9972-EWRJS</th>\n",
       "      <td>0</td>\n",
       "    </tr>\n",
       "    <tr>\n",
       "      <th>9975-GPKZU</th>\n",
       "      <td>0</td>\n",
       "    </tr>\n",
       "  </tbody>\n",
       "</table>\n",
       "</div>"
      ],
      "text/plain": [
       "             prediction\n",
       "customer_id            \n",
       "9950-MTGYX            0\n",
       "9953-ZMKSM            0\n",
       "9964-WBQDJ            0\n",
       "9972-EWRJS            0\n",
       "9975-GPKZU            0"
      ]
     },
     "execution_count": 66,
     "metadata": {},
     "output_type": "execute_result"
    }
   ],
   "source": [
    "pred.tail()"
   ]
  },
  {
   "cell_type": "code",
   "execution_count": 67,
   "metadata": {},
   "outputs": [
    {
     "data": {
      "text/html": [
       "<div>\n",
       "<style scoped>\n",
       "    .dataframe tbody tr th:only-of-type {\n",
       "        vertical-align: middle;\n",
       "    }\n",
       "\n",
       "    .dataframe tbody tr th {\n",
       "        vertical-align: top;\n",
       "    }\n",
       "\n",
       "    .dataframe thead th {\n",
       "        text-align: right;\n",
       "    }\n",
       "</style>\n",
       "<table border=\"1\" class=\"dataframe\">\n",
       "  <thead>\n",
       "    <tr style=\"text-align: right;\">\n",
       "      <th></th>\n",
       "      <th>customer_id</th>\n",
       "      <th>prediction</th>\n",
       "    </tr>\n",
       "  </thead>\n",
       "  <tbody>\n",
       "    <tr>\n",
       "      <th>0</th>\n",
       "      <td>0003-MKNFE</td>\n",
       "      <td>0</td>\n",
       "    </tr>\n",
       "    <tr>\n",
       "      <th>1</th>\n",
       "      <td>0013-MHZWF</td>\n",
       "      <td>0</td>\n",
       "    </tr>\n",
       "    <tr>\n",
       "      <th>2</th>\n",
       "      <td>0015-UOCOJ</td>\n",
       "      <td>0</td>\n",
       "    </tr>\n",
       "    <tr>\n",
       "      <th>3</th>\n",
       "      <td>0023-HGHWL</td>\n",
       "      <td>0</td>\n",
       "    </tr>\n",
       "    <tr>\n",
       "      <th>4</th>\n",
       "      <td>0032-PGELS</td>\n",
       "      <td>0</td>\n",
       "    </tr>\n",
       "    <tr>\n",
       "      <th>...</th>\n",
       "      <td>...</td>\n",
       "      <td>...</td>\n",
       "    </tr>\n",
       "    <tr>\n",
       "      <th>7038</th>\n",
       "      <td>9950-MTGYX</td>\n",
       "      <td>0</td>\n",
       "    </tr>\n",
       "    <tr>\n",
       "      <th>7039</th>\n",
       "      <td>9953-ZMKSM</td>\n",
       "      <td>0</td>\n",
       "    </tr>\n",
       "    <tr>\n",
       "      <th>7040</th>\n",
       "      <td>9964-WBQDJ</td>\n",
       "      <td>0</td>\n",
       "    </tr>\n",
       "    <tr>\n",
       "      <th>7041</th>\n",
       "      <td>9972-EWRJS</td>\n",
       "      <td>0</td>\n",
       "    </tr>\n",
       "    <tr>\n",
       "      <th>7042</th>\n",
       "      <td>9975-GPKZU</td>\n",
       "      <td>0</td>\n",
       "    </tr>\n",
       "  </tbody>\n",
       "</table>\n",
       "<p>7043 rows × 2 columns</p>\n",
       "</div>"
      ],
      "text/plain": [
       "     customer_id  prediction\n",
       "0     0003-MKNFE           0\n",
       "1     0013-MHZWF           0\n",
       "2     0015-UOCOJ           0\n",
       "3     0023-HGHWL           0\n",
       "4     0032-PGELS           0\n",
       "...          ...         ...\n",
       "7038  9950-MTGYX           0\n",
       "7039  9953-ZMKSM           0\n",
       "7040  9964-WBQDJ           0\n",
       "7041  9972-EWRJS           0\n",
       "7042  9975-GPKZU           0\n",
       "\n",
       "[7043 rows x 2 columns]"
      ]
     },
     "execution_count": 67,
     "metadata": {},
     "output_type": "execute_result"
    }
   ],
   "source": [
    "\n",
    "pred.reset_index()"
   ]
  },
  {
   "cell_type": "code",
   "execution_count": 69,
   "metadata": {},
   "outputs": [
    {
     "data": {
      "text/html": [
       "<div>\n",
       "<style scoped>\n",
       "    .dataframe tbody tr th:only-of-type {\n",
       "        vertical-align: middle;\n",
       "    }\n",
       "\n",
       "    .dataframe tbody tr th {\n",
       "        vertical-align: top;\n",
       "    }\n",
       "\n",
       "    .dataframe thead th {\n",
       "        text-align: right;\n",
       "    }\n",
       "</style>\n",
       "<table border=\"1\" class=\"dataframe\">\n",
       "  <thead>\n",
       "    <tr style=\"text-align: right;\">\n",
       "      <th></th>\n",
       "      <th>probability_churn</th>\n",
       "    </tr>\n",
       "  </thead>\n",
       "  <tbody>\n",
       "    <tr>\n",
       "      <th>0</th>\n",
       "      <td>0.172945</td>\n",
       "    </tr>\n",
       "    <tr>\n",
       "      <th>1</th>\n",
       "      <td>0.172945</td>\n",
       "    </tr>\n",
       "    <tr>\n",
       "      <th>2</th>\n",
       "      <td>0.172945</td>\n",
       "    </tr>\n",
       "    <tr>\n",
       "      <th>3</th>\n",
       "      <td>0.407229</td>\n",
       "    </tr>\n",
       "    <tr>\n",
       "      <th>4</th>\n",
       "      <td>0.407229</td>\n",
       "    </tr>\n",
       "  </tbody>\n",
       "</table>\n",
       "</div>"
      ],
      "text/plain": [
       "   probability_churn\n",
       "0           0.172945\n",
       "1           0.172945\n",
       "2           0.172945\n",
       "3           0.407229\n",
       "4           0.407229"
      ]
     },
     "execution_count": 69,
     "metadata": {},
     "output_type": "execute_result"
    }
   ],
   "source": [
    "\n",
    "df_prob = pd.DataFrame(clf.predict_proba(X))\n",
    "df_prob = df_prob.drop(0,axis=1)\n",
    "df_prob = df_prob.rename(columns={1:'probability_churn'})\n",
    "df_prob.head()"
   ]
  },
  {
   "cell_type": "code",
   "execution_count": 70,
   "metadata": {},
   "outputs": [
    {
     "data": {
      "text/html": [
       "<div>\n",
       "<style scoped>\n",
       "    .dataframe tbody tr th:only-of-type {\n",
       "        vertical-align: middle;\n",
       "    }\n",
       "\n",
       "    .dataframe tbody tr th {\n",
       "        vertical-align: top;\n",
       "    }\n",
       "\n",
       "    .dataframe thead th {\n",
       "        text-align: right;\n",
       "    }\n",
       "</style>\n",
       "<table border=\"1\" class=\"dataframe\">\n",
       "  <thead>\n",
       "    <tr style=\"text-align: right;\">\n",
       "      <th></th>\n",
       "      <th>prediction</th>\n",
       "    </tr>\n",
       "    <tr>\n",
       "      <th>customer_id</th>\n",
       "      <th></th>\n",
       "    </tr>\n",
       "  </thead>\n",
       "  <tbody>\n",
       "    <tr>\n",
       "      <th>0003-MKNFE</th>\n",
       "      <td>0</td>\n",
       "    </tr>\n",
       "    <tr>\n",
       "      <th>0013-MHZWF</th>\n",
       "      <td>0</td>\n",
       "    </tr>\n",
       "    <tr>\n",
       "      <th>0015-UOCOJ</th>\n",
       "      <td>0</td>\n",
       "    </tr>\n",
       "    <tr>\n",
       "      <th>0023-HGHWL</th>\n",
       "      <td>0</td>\n",
       "    </tr>\n",
       "    <tr>\n",
       "      <th>0032-PGELS</th>\n",
       "      <td>0</td>\n",
       "    </tr>\n",
       "  </tbody>\n",
       "</table>\n",
       "</div>"
      ],
      "text/plain": [
       "             prediction\n",
       "customer_id            \n",
       "0003-MKNFE            0\n",
       "0013-MHZWF            0\n",
       "0015-UOCOJ            0\n",
       "0023-HGHWL            0\n",
       "0032-PGELS            0"
      ]
     },
     "execution_count": 70,
     "metadata": {},
     "output_type": "execute_result"
    }
   ],
   "source": [
    "pred.head()"
   ]
  },
  {
   "cell_type": "code",
   "execution_count": 72,
   "metadata": {},
   "outputs": [
    {
     "data": {
      "text/html": [
       "<div>\n",
       "<style scoped>\n",
       "    .dataframe tbody tr th:only-of-type {\n",
       "        vertical-align: middle;\n",
       "    }\n",
       "\n",
       "    .dataframe tbody tr th {\n",
       "        vertical-align: top;\n",
       "    }\n",
       "\n",
       "    .dataframe thead th {\n",
       "        text-align: right;\n",
       "    }\n",
       "</style>\n",
       "<table border=\"1\" class=\"dataframe\">\n",
       "  <thead>\n",
       "    <tr style=\"text-align: right;\">\n",
       "      <th></th>\n",
       "      <th>prediction</th>\n",
       "      <th>probability_churn</th>\n",
       "    </tr>\n",
       "  </thead>\n",
       "  <tbody>\n",
       "    <tr>\n",
       "      <th>0</th>\n",
       "      <td>NaN</td>\n",
       "      <td>0.172945</td>\n",
       "    </tr>\n",
       "    <tr>\n",
       "      <th>1</th>\n",
       "      <td>NaN</td>\n",
       "      <td>0.172945</td>\n",
       "    </tr>\n",
       "    <tr>\n",
       "      <th>2</th>\n",
       "      <td>NaN</td>\n",
       "      <td>0.172945</td>\n",
       "    </tr>\n",
       "    <tr>\n",
       "      <th>3</th>\n",
       "      <td>NaN</td>\n",
       "      <td>0.407229</td>\n",
       "    </tr>\n",
       "    <tr>\n",
       "      <th>4</th>\n",
       "      <td>NaN</td>\n",
       "      <td>0.407229</td>\n",
       "    </tr>\n",
       "  </tbody>\n",
       "</table>\n",
       "</div>"
      ],
      "text/plain": [
       "   prediction  probability_churn\n",
       "0         NaN           0.172945\n",
       "1         NaN           0.172945\n",
       "2         NaN           0.172945\n",
       "3         NaN           0.407229\n",
       "4         NaN           0.407229"
      ]
     },
     "execution_count": 72,
     "metadata": {},
     "output_type": "execute_result"
    }
   ],
   "source": [
    "pred_2 = pd.concat([pred,df_prob], axis=1)\n",
    "pred_2.head()"
   ]
  },
  {
   "cell_type": "code",
   "execution_count": 74,
   "metadata": {},
   "outputs": [
    {
     "data": {
      "text/html": [
       "<div>\n",
       "<style scoped>\n",
       "    .dataframe tbody tr th:only-of-type {\n",
       "        vertical-align: middle;\n",
       "    }\n",
       "\n",
       "    .dataframe tbody tr th {\n",
       "        vertical-align: top;\n",
       "    }\n",
       "\n",
       "    .dataframe thead th {\n",
       "        text-align: right;\n",
       "    }\n",
       "</style>\n",
       "<table border=\"1\" class=\"dataframe\">\n",
       "  <thead>\n",
       "    <tr style=\"text-align: right;\">\n",
       "      <th></th>\n",
       "      <th>prediction</th>\n",
       "      <th>probability_churn</th>\n",
       "    </tr>\n",
       "  </thead>\n",
       "  <tbody>\n",
       "    <tr>\n",
       "      <th>0</th>\n",
       "      <td>0</td>\n",
       "      <td>0.172945</td>\n",
       "    </tr>\n",
       "    <tr>\n",
       "      <th>1</th>\n",
       "      <td>0</td>\n",
       "      <td>0.172945</td>\n",
       "    </tr>\n",
       "    <tr>\n",
       "      <th>2</th>\n",
       "      <td>0</td>\n",
       "      <td>0.172945</td>\n",
       "    </tr>\n",
       "    <tr>\n",
       "      <th>3</th>\n",
       "      <td>0</td>\n",
       "      <td>0.407229</td>\n",
       "    </tr>\n",
       "    <tr>\n",
       "      <th>4</th>\n",
       "      <td>0</td>\n",
       "      <td>0.407229</td>\n",
       "    </tr>\n",
       "  </tbody>\n",
       "</table>\n",
       "</div>"
      ],
      "text/plain": [
       "   prediction  probability_churn\n",
       "0           0           0.172945\n",
       "1           0           0.172945\n",
       "2           0           0.172945\n",
       "3           0           0.407229\n",
       "4           0           0.407229"
      ]
     },
     "execution_count": 74,
     "metadata": {},
     "output_type": "execute_result"
    }
   ],
   "source": [
    "\n",
    "predictionsdf = pd.concat([pred.reset_index(drop=True), df_prob.reset_index(drop=True)], axis=1)\n",
    "predictionsdf.head()"
   ]
  },
  {
   "cell_type": "code",
   "execution_count": 77,
   "metadata": {
    "scrolled": true
   },
   "outputs": [
    {
     "data": {
      "text/plain": [
       "0    5914\n",
       "1    1129\n",
       "Name: prediction, dtype: int64"
      ]
     },
     "execution_count": 77,
     "metadata": {},
     "output_type": "execute_result"
    }
   ],
   "source": [
    "predictionsdf.prediction.value_counts()"
   ]
  },
  {
   "cell_type": "code",
   "execution_count": 75,
   "metadata": {},
   "outputs": [],
   "source": [
    "predictionsdf.to_csv('predictions.csv')"
   ]
  },
  {
   "cell_type": "code",
   "execution_count": null,
   "metadata": {},
   "outputs": [],
   "source": []
  }
 ],
 "metadata": {
  "kernelspec": {
   "display_name": "Python 3",
   "language": "python",
   "name": "python3"
  },
  "language_info": {
   "codemirror_mode": {
    "name": "ipython",
    "version": 3
   },
   "file_extension": ".py",
   "mimetype": "text/x-python",
   "name": "python",
   "nbconvert_exporter": "python",
   "pygments_lexer": "ipython3",
   "version": "3.8.5"
  }
 },
 "nbformat": 4,
 "nbformat_minor": 4
}
